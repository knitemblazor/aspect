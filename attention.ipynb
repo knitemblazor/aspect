{
  "nbformat": 4,
  "nbformat_minor": 0,
  "metadata": {
    "colab": {
      "name": "attention.ipynb",
      "version": "0.3.2",
      "provenance": []
    },
    "kernelspec": {
      "name": "python3",
      "display_name": "Python 3"
    }
  },
  "cells": [
    {
      "metadata": {
        "id": "GwMZgF3nncO_",
        "colab_type": "code",
        "colab": {}
      },
      "cell_type": "code",
      "source": [
        "selec=np.load('/content/gdrive/My Drive/aspect/selre.npy')"
      ],
      "execution_count": 0,
      "outputs": []
    },
    {
      "metadata": {
        "id": "0V3ORl7w95Ec",
        "colab_type": "code",
        "colab": {}
      },
      "cell_type": "code",
      "source": [
        "summaryselec=[]\n",
        "for i in selec:\n",
        "  summaryselec.append(summary[i])"
      ],
      "execution_count": 0,
      "outputs": []
    },
    {
      "metadata": {
        "id": "DJqW5xr8-SOp",
        "colab_type": "code",
        "outputId": "f8e058f9-add5-4284-f2d9-30f6a014f5e4",
        "colab": {
          "base_uri": "https://localhost:8080/",
          "height": 34
        }
      },
      "cell_type": "code",
      "source": [
        "print(len(summaryselec))\n",
        "np.save('/content/gdrive/My Drive/aspect/selsum.npy',summaryselec)"
      ],
      "execution_count": 0,
      "outputs": [
        {
          "output_type": "stream",
          "text": [
            "50992\n"
          ],
          "name": "stdout"
        }
      ]
    },
    {
      "metadata": {
        "id": "orSTL8hPdBhT",
        "colab_type": "code",
        "outputId": "450a26bc-2e54-4968-8c38-e5237d9b264d",
        "colab": {
          "base_uri": "https://localhost:8080/",
          "height": 34
        }
      },
      "cell_type": "code",
      "source": [
        "from google.colab import drive\n",
        "drive.mount('/content/gdrive')"
      ],
      "execution_count": 1,
      "outputs": [
        {
          "output_type": "stream",
          "text": [
            "Drive already mounted at /content/gdrive; to attempt to forcibly remount, call drive.mount(\"/content/gdrive\", force_remount=True).\n"
          ],
          "name": "stdout"
        }
      ]
    },
    {
      "metadata": {
        "id": "Ku_8Jpekcf6E",
        "colab_type": "code",
        "colab": {}
      },
      "cell_type": "code",
      "source": [
        "import numpy as np\n",
        "review=np.load('/content/gdrive/My Drive/aspect/reviewarr.npy')\n",
        "summary=np.load('/content/gdrive/My Drive/aspect/selsum.npy')"
      ],
      "execution_count": 0,
      "outputs": []
    },
    {
      "metadata": {
        "id": "akh2o-gI9uxN",
        "colab_type": "code",
        "outputId": "704c4a97-17c4-4594-92ee-fde8e61836d7",
        "colab": {
          "base_uri": "https://localhost:8080/",
          "height": 34
        }
      },
      "cell_type": "code",
      "source": [
        "print(len(review),len(summary))"
      ],
      "execution_count": 0,
      "outputs": [
        {
          "output_type": "stream",
          "text": [
            "50992 50992\n"
          ],
          "name": "stdout"
        }
      ]
    },
    {
      "metadata": {
        "id": "Bdk9kgqoPhnn",
        "colab_type": "code",
        "colab": {
          "base_uri": "https://localhost:8080/",
          "height": 191
        },
        "outputId": "14eb15c0-e02c-4c1f-8d38-5bfb018d7a17"
      },
      "cell_type": "code",
      "source": [
        "class summarise(object):\n",
        "  def __init__(self,review,summ):\n",
        "    self.review=review.reshape(50992,1400)\n",
        "    self.summ=summ.reshape(50992,1400)\n",
        "    \n",
        "  def attention(self):\n",
        "    I = np.array([[1]*1000]*5)\n",
        "    product=[]\n",
        "    a=[]\n",
        "    for i in range(5):\n",
        "        e_x = np.exp(np.matmul(self.summ[i],self.review[:1000].transpose())/np.sqrt(1400) - np.max(np.matmul(self.summ[i],self.review[:1000].transpose()/np.sqrt(1400))))\n",
        "        b = e_x / e_x.sum(axis=0)\n",
        "        a.append(b)\n",
        "    a=np.array(a)\n",
        "    product=I-a.reshape(5,1000)\n",
        "    return(product)\n",
        "    \n",
        "obj =summarise(review,summary)\n",
        "np.save('/content/gdrive/My Drive/aspect/2.npy',obj.attention())\n",
        "obj.attention()\n"
      ],
      "execution_count": 44,
      "outputs": [
        {
          "output_type": "execute_result",
          "data": {
            "text/plain": [
              "array([[0.99999359, 0.99997566, 0.99998783, ..., 0.99995198, 0.99981047,\n",
              "        0.99999887],\n",
              "       [0.99919375, 0.99905043, 0.99868256, ..., 0.99988523, 0.99997424,\n",
              "        0.99996507],\n",
              "       [0.99880726, 0.9998264 , 0.99826866, ..., 0.99980536, 0.99960729,\n",
              "        0.9989756 ],\n",
              "       [0.99977783, 0.99992142, 0.99978453, ..., 0.99969501, 0.99987653,\n",
              "        0.99948194],\n",
              "       [0.99994409, 0.99999981, 0.99847999, ..., 0.99999984, 0.99999346,\n",
              "        0.99999542]])"
            ]
          },
          "metadata": {
            "tags": []
          },
          "execution_count": 44
        }
      ]
    },
    {
      "metadata": {
        "id": "-iAp613tcZC9",
        "colab_type": "code",
        "colab": {}
      },
      "cell_type": "code",
      "source": [
        "class summarise(object):\n",
        "  def __init__(self,review,summ):\n",
        "    self.review=review\n",
        "    self.summ=summ\n",
        "    \n",
        "  def attention(self):\n",
        "    I = np.array([[1]*50]*50)\n",
        "    product=[]\n",
        "    \n",
        "    for i in range(5):\n",
        "      for j in range(1000):\n",
        "        e_x = np.exp(np.matmul(self.summ[i],self.review[j].transpose())/np.sqrt(28) - np.max(np.matmul(self.summ[i],self.review[i].transpose()/np.sqrt(28))))\n",
        "        b = e_x / e_x.sum(axis=0)\n",
        "        product.append(I-b)\n",
        "#     product.reshape()  \n",
        "    return(product)\n",
        "    \n",
        "obj =summarise(review,summary)\n",
        "np.save('/content/gdrive/My Drive/aspect/2.npy',obj.attention())\n",
        "obj.attention()\n"
      ],
      "execution_count": 0,
      "outputs": []
    },
    {
      "metadata": {
        "id": "WM48eQgJFx3K",
        "colab_type": "code",
        "colab": {}
      },
      "cell_type": "code",
      "source": [
        "class summarise(object):\n",
        "  def __init__(self,review,summ):\n",
        "    self.review=review.reshape(50992,1400)\n",
        "    self.summ=summ.reshape(50992,1400)\n",
        "    \n",
        "  def attention(self):\n",
        "    I = np.array([[1]*50992]*500)\n",
        "    product=[]\n",
        "    e_x = np.exp(np.matmul(self.summ[:500],self.review.transpose())/np.sqrt(1400) - np.max(np.matmul(self.summ[:500],self.review.transpose()/np.sqrt(1400))))\n",
        "    b = e_x / e_x.sum(axis=0)\n",
        "    product.append(I-b)\n",
        "    return(product)\n",
        "    \n",
        "    \n",
        "obj =summarise(review,summary)\n",
        "np.save('/content/gdrive/My Drive/aspect/2.npy',obj.attention())\n",
        "obj.attention()\n"
      ],
      "execution_count": 0,
      "outputs": []
    }
  ]
}