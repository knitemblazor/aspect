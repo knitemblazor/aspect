{
  "nbformat": 4,
  "nbformat_minor": 0,
  "metadata": {
    "colab": {
      "name": "attention.ipynb",
      "version": "0.3.2",
      "provenance": []
    },
    "kernelspec": {
      "name": "python3",
      "display_name": "Python 3"
    }
  },
  "cells": [
    {
      "metadata": {
        "id": "GwMZgF3nncO_",
        "colab_type": "code",
        "colab": {}
      },
      "cell_type": "code",
      "source": [
        "selec=np.load('/content/gdrive/My Drive/aspect/selre.npy')"
      ],
      "execution_count": 0,
      "outputs": []
    },
    {
      "metadata": {
        "id": "0V3ORl7w95Ec",
        "colab_type": "code",
        "colab": {}
      },
      "cell_type": "code",
      "source": [
        "summaryselec=[]\n",
        "for i in selec:\n",
        "  summaryselec.append(summary[i])"
      ],
      "execution_count": 0,
      "outputs": []
    },
    {
      "metadata": {
        "id": "DJqW5xr8-SOp",
        "colab_type": "code",
        "colab": {
          "base_uri": "https://localhost:8080/",
          "height": 34
        },
        "outputId": "f8e058f9-add5-4284-f2d9-30f6a014f5e4"
      },
      "cell_type": "code",
      "source": [
        "print(len(summaryselec))\n",
        "np.save('/content/gdrive/My Drive/aspect/selsum.npy',summaryselec)"
      ],
      "execution_count": 5,
      "outputs": [
        {
          "output_type": "stream",
          "text": [
            "50992\n"
          ],
          "name": "stdout"
        }
      ]
    },
    {
      "metadata": {
        "id": "orSTL8hPdBhT",
        "colab_type": "code",
        "colab": {
          "base_uri": "https://localhost:8080/",
          "height": 34
        },
        "outputId": "a21ac32b-2d39-4cd4-f985-9794f44ff7ac"
      },
      "cell_type": "code",
      "source": [
        "from google.colab import drive\n",
        "drive.mount('/content/gdrive')"
      ],
      "execution_count": 1,
      "outputs": [
        {
          "output_type": "stream",
          "text": [
            "Drive already mounted at /content/gdrive; to attempt to forcibly remount, call drive.mount(\"/content/gdrive\", force_remount=True).\n"
          ],
          "name": "stdout"
        }
      ]
    },
    {
      "metadata": {
        "id": "Ku_8Jpekcf6E",
        "colab_type": "code",
        "colab": {}
      },
      "cell_type": "code",
      "source": [
        "import numpy as np\n",
        "review=np.load('/content/gdrive/My Drive/aspect/reviewarr.npy')\n",
        "summary=np.load('/content/gdrive/My Drive/aspect/selsum.npy')"
      ],
      "execution_count": 0,
      "outputs": []
    },
    {
      "metadata": {
        "id": "akh2o-gI9uxN",
        "colab_type": "code",
        "colab": {
          "base_uri": "https://localhost:8080/",
          "height": 34
        },
        "outputId": "ccbeda74-b64e-45e4-d422-9339a22d9c55"
      },
      "cell_type": "code",
      "source": [
        "review.reshape()\n",
        "print(len(review),len(summary))"
      ],
      "execution_count": 7,
      "outputs": [
        {
          "output_type": "stream",
          "text": [
            "50992 50992\n"
          ],
          "name": "stdout"
        }
      ]
    },
    {
      "metadata": {
        "id": "-iAp613tcZC9",
        "colab_type": "code",
        "colab": {}
      },
      "cell_type": "code",
      "source": [
        "from keras.layers.advanced_activations import Softmax\n",
        "class summarise(object):\n",
        "  def __init__(self,review,summ):\n",
        "    self.review=review\n",
        "    self.summ=summ\n",
        "    \n",
        "  def attention(self):\n",
        "    I = np.array([[1]*50]*50)\n",
        "    product=[]\n",
        "    \n",
        "    for i in range(50992):\n",
        "      e_x = np.exp(np.matmul(self.summ[i],self.review[i].transpose()) - np.max(np.matmul(self.summ[i],self.review[i].transpose())))\n",
        "      b = e_x / e_x.sum(axis=0)\n",
        "      product.append(I-b)\n",
        "      \n",
        "    return(product)\n",
        "    \n",
        "    \n",
        "    \n",
        "\n",
        "\n",
        "\n",
        "obj =summarise(review,summary)\n",
        "obj.attention()\n",
        "\n",
        "    "
      ],
      "execution_count": 0,
      "outputs": []
    }
  ]
}