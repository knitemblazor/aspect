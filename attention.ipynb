{
  "nbformat": 4,
  "nbformat_minor": 0,
  "metadata": {
    "colab": {
      "name": "attention.ipynb",
      "version": "0.3.2",
      "provenance": [],
      "collapsed_sections": []
    },
    "kernelspec": {
      "name": "python3",
      "display_name": "Python 3"
    }
  },
  "cells": [
    {
      "metadata": {
        "id": "GwMZgF3nncO_",
        "colab_type": "code",
        "colab": {}
      },
      "cell_type": "code",
      "source": [
        "selec=np.load('/content/gdrive/My Drive/aspect/selre.npy')"
      ],
      "execution_count": 0,
      "outputs": []
    },
    {
      "metadata": {
        "id": "0V3ORl7w95Ec",
        "colab_type": "code",
        "colab": {}
      },
      "cell_type": "code",
      "source": [
        "summaryselec=[]\n",
        "for i in selec:\n",
        "  summaryselec.append(summary[i])"
      ],
      "execution_count": 0,
      "outputs": []
    },
    {
      "metadata": {
        "id": "DJqW5xr8-SOp",
        "colab_type": "code",
        "outputId": "f8e058f9-add5-4284-f2d9-30f6a014f5e4",
        "colab": {
          "base_uri": "https://localhost:8080/",
          "height": 34
        }
      },
      "cell_type": "code",
      "source": [
        "print(len(summaryselec))\n",
        "np.save('/content/gdrive/My Drive/aspect/selsum.npy',summaryselec)"
      ],
      "execution_count": 0,
      "outputs": [
        {
          "output_type": "stream",
          "text": [
            "50992\n"
          ],
          "name": "stdout"
        }
      ]
    },
    {
      "metadata": {
        "id": "orSTL8hPdBhT",
        "colab_type": "code",
        "outputId": "450a26bc-2e54-4968-8c38-e5237d9b264d",
        "colab": {
          "base_uri": "https://localhost:8080/",
          "height": 34
        }
      },
      "cell_type": "code",
      "source": [
        "from google.colab import drive\n",
        "drive.mount('/content/gdrive')"
      ],
      "execution_count": 1,
      "outputs": [
        {
          "output_type": "stream",
          "text": [
            "Drive already mounted at /content/gdrive; to attempt to forcibly remount, call drive.mount(\"/content/gdrive\", force_remount=True).\n"
          ],
          "name": "stdout"
        }
      ]
    },
    {
      "metadata": {
        "id": "Ku_8Jpekcf6E",
        "colab_type": "code",
        "colab": {}
      },
      "cell_type": "code",
      "source": [
        "import numpy as np\n",
        "review=np.load('/content/gdrive/My Drive/aspect/reviewarr.npy')\n",
        "summary=np.load('/content/gdrive/My Drive/aspect/selsum.npy')"
      ],
      "execution_count": 0,
      "outputs": []
    },
    {
      "metadata": {
        "id": "akh2o-gI9uxN",
        "colab_type": "code",
        "outputId": "704c4a97-17c4-4594-92ee-fde8e61836d7",
        "colab": {
          "base_uri": "https://localhost:8080/",
          "height": 34
        }
      },
      "cell_type": "code",
      "source": [
        "print(len(review),len(summary))"
      ],
      "execution_count": 0,
      "outputs": [
        {
          "output_type": "stream",
          "text": [
            "50992 50992\n"
          ],
          "name": "stdout"
        }
      ]
    },
    {
      "metadata": {
        "id": "Bdk9kgqoPhnn",
        "colab_type": "code",
        "colab": {
          "base_uri": "https://localhost:8080/",
          "height": 34
        },
        "outputId": "9979244f-4547-442c-c6c5-ccb976d79b7b"
      },
      "cell_type": "code",
      "source": [
        "class summarise(object):\n",
        "  \n",
        "  \n",
        "  def __init__(self,review,summ):\n",
        "    self.review=review.reshape(50992,1400)\n",
        "    self.summ=summ.reshape(50992,1400)\n",
        "    \n",
        "  def attention(self):\n",
        "    I = np.array([[1]*1000]*5)\n",
        "    product=[]\n",
        "    a=[]\n",
        "    for i in range(5):\n",
        "        e_x = np.exp(np.matmul(self.summ[i],self.review[:1000].transpose())/np.sqrt(1400) - np.max(np.matmul(self.summ[i],self.review[:1000].transpose()/np.sqrt(1400))))\n",
        "        b = e_x / e_x.sum(axis=0)\n",
        "        a.append(b)\n",
        "    a=np.array(a)\n",
        "    product=I-a.reshape(5,1000)\n",
        "    self.product=np.array(product)\n",
        "    return(product)\n",
        "  \n",
        "  def row_wise_multiplier(self):\n",
        "      A=[]\n",
        "      B=[]\n",
        "      for i in range(len(self.product[1])):\n",
        "        A.append(self.product[:,i])\n",
        "      for i in A:\n",
        "        c=1\n",
        "        for j in i:\n",
        "          c=c*j\n",
        "        B.append(c)\n",
        "      self.B=B\n",
        "      return(B)\n",
        "    \n",
        "  def mlpinput(self):\n",
        "    D=np.matmul(self.B,self.review[:1000])\n",
        "    return(D)\n",
        "\n",
        "obj =summarise(review,summary)\n",
        "np.save('/content/gdrive/My Drive/aspect/2.npy',obj.attention())\n",
        "o=obj.attention()\n",
        "X=obj.row_wise_multiplier()\n",
        "print(len(obj.mlpinput()))\n"
      ],
      "execution_count": 72,
      "outputs": [
        {
          "output_type": "stream",
          "text": [
            "1400\n"
          ],
          "name": "stdout"
        }
      ]
    },
    {
      "metadata": {
        "id": "4X6dC-fXeD1-",
        "colab_type": "code",
        "colab": {
          "base_uri": "https://localhost:8080/",
          "height": 54
        },
        "outputId": "704be59f-8e0e-4b7a-e91d-d10dcb10a9fc"
      },
      "cell_type": "code",
      "source": [
        "print(X[:30])"
      ],
      "execution_count": 68,
      "outputs": [
        {
          "output_type": "stream",
          "text": [
            "[0.9977180765291961, 0.9987740019887433, 0.9952115133181803, 0.9669767783310471, 0.9983304163802708, 0.998199479895998, 0.9969836247591213, 0.9981734910342923, 0.9739919341525723, 0.9985627871764055, 0.998514890803571, 0.9974255415042432, 0.9976913651953836, 0.9992700583055952, 0.9985908510486785, 0.9992106677870015, 0.9979457864568086, 0.9985015682045528, 0.999579797642872, 0.9985112952613577, 0.998581797677572, 0.9987432095213966, 0.9987584215570516, 0.9950428309786338, 0.9992169750568365, 0.9979810338254094, 0.9989989696527873, 0.997602841539821, 0.9961929626660011, 0.9824941894493412]\n"
          ],
          "name": "stdout"
        }
      ]
    },
    {
      "metadata": {
        "id": "-iAp613tcZC9",
        "colab_type": "code",
        "colab": {}
      },
      "cell_type": "code",
      "source": [
        "class summarise(object):\n",
        "  def __init__(self,review,summ):\n",
        "    self.review=review\n",
        "    self.summ=summ\n",
        "    \n",
        "  def attention(self):\n",
        "    I = np.array([[1]*50]*50)\n",
        "    product=[]\n",
        "    \n",
        "    for i in range(5):\n",
        "      for j in range(1000):\n",
        "        e_x = np.exp(np.matmul(self.summ[i],self.review[j].transpose())/np.sqrt(28) - np.max(np.matmul(self.summ[i],self.review[i].transpose()/np.sqrt(28))))\n",
        "        b = e_x / e_x.sum(axis=0)\n",
        "        product.append(I-b)\n",
        "#     product.reshape()  \n",
        "    return(product)\n",
        "    \n",
        "obj =summarise(review,summary)\n",
        "np.save('/content/gdrive/My Drive/aspect/2.npy',obj.attention())\n",
        "obj.attention()\n"
      ],
      "execution_count": 0,
      "outputs": []
    },
    {
      "metadata": {
        "id": "WM48eQgJFx3K",
        "colab_type": "code",
        "colab": {}
      },
      "cell_type": "code",
      "source": [
        "class summarise(object):\n",
        "  def __init__(self,review,summ):\n",
        "    self.review=review.reshape(50992,1400)\n",
        "    self.summ=summ.reshape(50992,1400)\n",
        "    \n",
        "  def attention(self):\n",
        "    I = np.array([[1]*50992]*500)\n",
        "    product=[]\n",
        "    e_x = np.exp(np.matmul(self.summ[:500],self.review.transpose())/np.sqrt(1400) - np.max(np.matmul(self.summ[:500],self.review.transpose()/np.sqrt(1400))))\n",
        "    b = e_x / e_x.sum(axis=0)\n",
        "    product.append(I-b)\n",
        "    return(product)\n",
        "    \n",
        "    \n",
        "obj =summarise(review,summary)\n",
        "np.save('/content/gdrive/My Drive/aspect/2.npy',obj.attention())\n",
        "obj.attention()\n"
      ],
      "execution_count": 0,
      "outputs": []
    }
  ]
}