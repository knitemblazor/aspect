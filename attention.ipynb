{
  "nbformat": 4,
  "nbformat_minor": 0,
  "metadata": {
    "colab": {
      "name": "attention.ipynb",
      "version": "0.3.2",
      "provenance": []
    },
    "kernelspec": {
      "name": "python3",
      "display_name": "Python 3"
    }
  },
  "cells": [
    {
      "metadata": {
        "id": "GwMZgF3nncO_",
        "colab_type": "code",
        "colab": {}
      },
      "cell_type": "code",
      "source": [
        "selec=np.load('/content/gdrive/My Drive/aspect/selre.npy')"
      ],
      "execution_count": 0,
      "outputs": []
    },
    {
      "metadata": {
        "id": "0V3ORl7w95Ec",
        "colab_type": "code",
        "colab": {}
      },
      "cell_type": "code",
      "source": [
        "summaryselec=[]\n",
        "for i in selec:\n",
        "  summaryselec.append(summary[i])"
      ],
      "execution_count": 0,
      "outputs": []
    },
    {
      "metadata": {
        "id": "DJqW5xr8-SOp",
        "colab_type": "code",
        "outputId": "f8e058f9-add5-4284-f2d9-30f6a014f5e4",
        "colab": {
          "base_uri": "https://localhost:8080/",
          "height": 34
        }
      },
      "cell_type": "code",
      "source": [
        "print(len(summaryselec))\n",
        "np.save('/content/gdrive/My Drive/aspect/selsum.npy',summaryselec)"
      ],
      "execution_count": 0,
      "outputs": [
        {
          "output_type": "stream",
          "text": [
            "50992\n"
          ],
          "name": "stdout"
        }
      ]
    },
    {
      "metadata": {
        "id": "orSTL8hPdBhT",
        "colab_type": "code",
        "outputId": "450a26bc-2e54-4968-8c38-e5237d9b264d",
        "colab": {
          "base_uri": "https://localhost:8080/",
          "height": 34
        }
      },
      "cell_type": "code",
      "source": [
        "from google.colab import drive\n",
        "drive.mount('/content/gdrive')"
      ],
      "execution_count": 1,
      "outputs": [
        {
          "output_type": "stream",
          "text": [
            "Drive already mounted at /content/gdrive; to attempt to forcibly remount, call drive.mount(\"/content/gdrive\", force_remount=True).\n"
          ],
          "name": "stdout"
        }
      ]
    },
    {
      "metadata": {
        "id": "Ku_8Jpekcf6E",
        "colab_type": "code",
        "colab": {}
      },
      "cell_type": "code",
      "source": [
        "import numpy as np\n",
        "review=np.load('/content/gdrive/My Drive/aspect/reviewarr.npy')\n",
        "summary=np.load('/content/gdrive/My Drive/aspect/selsum.npy')"
      ],
      "execution_count": 0,
      "outputs": []
    },
    {
      "metadata": {
        "id": "akh2o-gI9uxN",
        "colab_type": "code",
        "outputId": "704c4a97-17c4-4594-92ee-fde8e61836d7",
        "colab": {
          "base_uri": "https://localhost:8080/",
          "height": 34
        }
      },
      "cell_type": "code",
      "source": [
        "print(len(review),len(summary))"
      ],
      "execution_count": 0,
      "outputs": [
        {
          "output_type": "stream",
          "text": [
            "50992 50992\n"
          ],
          "name": "stdout"
        }
      ]
    },
    {
      "metadata": {
        "id": "-iAp613tcZC9",
        "colab_type": "code",
        "colab": {
          "base_uri": "https://localhost:8080/",
          "height": 243
        },
        "outputId": "f2768d2b-8fed-478a-bbe9-fe586ceb7a0d"
      },
      "cell_type": "code",
      "source": [
        "class summarise(object):\n",
        "  def __init__(self,review,summ):\n",
        "    self.review=review.reshape(50992,1400)\n",
        "    self.summ=summ.reshape(50992,1400)\n",
        "    \n",
        "  def attention(self):\n",
        "    I = np.array([[1]*50992]*10)\n",
        "    product=[]\n",
        "    \n",
        "#     for i in range(5):\n",
        "#       for j in range(1000):\n",
        "    e_x = np.exp(np.matmul(self.summ[:10],self.review.transpose())/np.sqrt(1400) - np.max(np.matmul(self.summ[:10],self.review.transpose()/np.sqrt(1400))))\n",
        "    b = e_x / e_x.sum(axis=0)\n",
        "    product.append(I-b)\n",
        "    return(product)\n",
        "    \n",
        "    \n",
        "obj =summarise(review,summary)\n",
        "np.save('/content/gdrive/My Drive/aspect/2.npy',obj.attention())\n",
        "obj.attention()\n"
      ],
      "execution_count": 9,
      "outputs": [
        {
          "output_type": "execute_result",
          "data": {
            "text/plain": [
              "[array([[0.99975354, 0.89015625, 0.9999827 , ..., 0.81136573, 0.99989755,\n",
              "         0.99986728],\n",
              "        [0.99746762, 0.64997634, 0.99984707, ..., 0.89622113, 0.9995151 ,\n",
              "         0.99986431],\n",
              "        [0.99976312, 0.99595384, 0.99998729, ..., 0.92493788, 0.99993645,\n",
              "         0.9999731 ],\n",
              "        ...,\n",
              "        [0.99996188, 0.99680735, 0.99993715, ..., 0.79242563, 0.99990851,\n",
              "         0.99994403],\n",
              "        [0.99898461, 0.94412504, 0.99992171, ..., 0.97255189, 0.99950991,\n",
              "         0.99985079],\n",
              "        [0.99983808, 0.98418356, 0.99998495, ..., 0.88863645, 0.99989764,\n",
              "         0.99995787]])]"
            ]
          },
          "metadata": {
            "tags": []
          },
          "execution_count": 9
        }
      ]
    },
    {
      "metadata": {
        "id": "Ir579xxP1ItL",
        "colab_type": "code",
        "colab": {}
      },
      "cell_type": "code",
      "source": [
        ""
      ],
      "execution_count": 0,
      "outputs": []
    }
  ]
}