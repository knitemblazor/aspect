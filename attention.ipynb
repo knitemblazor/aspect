{
  "nbformat": 4,
  "nbformat_minor": 0,
  "metadata": {
    "colab": {
      "name": "attention.ipynb",
      "version": "0.3.2",
      "provenance": [],
      "collapsed_sections": []
    },
    "kernelspec": {
      "name": "python3",
      "display_name": "Python 3"
    }
  },
  "cells": [
    {
      "metadata": {
        "id": "GwMZgF3nncO_",
        "colab_type": "code",
        "colab": {}
      },
      "cell_type": "code",
      "source": [
        "import numpy as np\n",
        "selec=np.load('/content/gdrive/My Drive/aspect/selre.npy')"
      ],
      "execution_count": 0,
      "outputs": []
    },
    {
      "metadata": {
        "id": "0V3ORl7w95Ec",
        "colab_type": "code",
        "colab": {}
      },
      "cell_type": "code",
      "source": [
        "summaryselec=[]\n",
        "for i in selec:\n",
        "  summaryselec.append(summary[i])"
      ],
      "execution_count": 0,
      "outputs": []
    },
    {
      "metadata": {
        "id": "DJqW5xr8-SOp",
        "colab_type": "code",
        "outputId": "f8e058f9-add5-4284-f2d9-30f6a014f5e4",
        "colab": {
          "base_uri": "https://localhost:8080/",
          "height": 34
        }
      },
      "cell_type": "code",
      "source": [
        "print(len(summaryselec))\n",
        "np.save('/content/gdrive/My Drive/aspect/selsum.npy',summaryselec)"
      ],
      "execution_count": 0,
      "outputs": [
        {
          "output_type": "stream",
          "text": [
            "50992\n"
          ],
          "name": "stdout"
        }
      ]
    },
    {
      "metadata": {
        "id": "orSTL8hPdBhT",
        "colab_type": "code",
        "outputId": "5462303f-e520-4a87-e864-c91ce719645d",
        "colab": {
          "base_uri": "https://localhost:8080/",
          "height": 124
        }
      },
      "cell_type": "code",
      "source": [
        "from google.colab import drive\n",
        "drive.mount('/content/gdrive')"
      ],
      "execution_count": 1,
      "outputs": [
        {
          "output_type": "stream",
          "text": [
            "Go to this URL in a browser: https://accounts.google.com/o/oauth2/auth?client_id=947318989803-6bn6qk8qdgf4n4g3pfee6491hc0brc4i.apps.googleusercontent.com&redirect_uri=urn%3Aietf%3Awg%3Aoauth%3A2.0%3Aoob&scope=email%20https%3A%2F%2Fwww.googleapis.com%2Fauth%2Fdocs.test%20https%3A%2F%2Fwww.googleapis.com%2Fauth%2Fdrive%20https%3A%2F%2Fwww.googleapis.com%2Fauth%2Fdrive.photos.readonly%20https%3A%2F%2Fwww.googleapis.com%2Fauth%2Fpeopleapi.readonly&response_type=code\n",
            "\n",
            "Enter your authorization code:\n",
            "··········\n",
            "Mounted at /content/gdrive\n"
          ],
          "name": "stdout"
        }
      ]
    },
    {
      "metadata": {
        "id": "Ku_8Jpekcf6E",
        "colab_type": "code",
        "colab": {}
      },
      "cell_type": "code",
      "source": [
        "import numpy as np\n",
        "review=np.load('/content/gdrive/My Drive/aspect/reviewarr.npy')\n",
        "summary=np.load('/content/gdrive/My Drive/aspect/selsum.npy')"
      ],
      "execution_count": 0,
      "outputs": []
    },
    {
      "metadata": {
        "id": "lMaDyJR5ah_2",
        "colab_type": "code",
        "colab": {
          "base_uri": "https://localhost:8080/",
          "height": 243
        },
        "outputId": "0522aa96-95f7-4f37-ba53-9c9809498de9"
      },
      "cell_type": "code",
      "source": [
        "print(review[1])"
      ],
      "execution_count": 21,
      "outputs": [
        {
          "output_type": "stream",
          "text": [
            "[[-2.66787577 -3.19973183  3.91950107 ... -2.44194603  0.89270282\n",
            "  -4.99528885]\n",
            " [ 3.03271914  6.67877865  0.565938   ...  2.41184592  0.19005202\n",
            "  -2.13611221]\n",
            " [ 0.39845607  0.75915915  1.06776047 ... -1.11187232  0.02758104\n",
            "  -0.09620836]\n",
            " ...\n",
            " [ 0.          0.          0.         ...  0.          0.\n",
            "   0.        ]\n",
            " [ 0.          0.          0.         ...  0.          0.\n",
            "   0.        ]\n",
            " [ 0.          0.          0.         ...  0.          0.\n",
            "   0.        ]]\n"
          ],
          "name": "stdout"
        }
      ]
    },
    {
      "metadata": {
        "id": "akh2o-gI9uxN",
        "colab_type": "code",
        "outputId": "fa38e276-3f80-43bf-b1df-7a77c2ef8ea8",
        "colab": {
          "base_uri": "https://localhost:8080/",
          "height": 34
        }
      },
      "cell_type": "code",
      "source": [
        "print(len(review[1]),len(summary))"
      ],
      "execution_count": 41,
      "outputs": [
        {
          "output_type": "stream",
          "text": [
            "50 50992\n"
          ],
          "name": "stdout"
        }
      ]
    },
    {
      "metadata": {
        "id": "Bdk9kgqoPhnn",
        "colab_type": "code",
        "outputId": "aa4c3bfc-3d66-4ee5-9c95-e41f08f20c9f",
        "colab": {
          "base_uri": "https://localhost:8080/",
          "height": 208
        }
      },
      "cell_type": "code",
      "source": [
        "class summarise(object):\n",
        "  \n",
        "  \n",
        "  def __init__(self,review,summ):\n",
        "      self.review=review.reshape(50992,1400)\n",
        "      self.summ=summ.reshape(50992,1400)\n",
        "    \n",
        "  def attention(self):\n",
        "      I = np.array([[1]*1000]*5)\n",
        "      product=[]\n",
        "      a=[]\n",
        "      for i in range(5):\n",
        "          e_x = np.exp(np.matmul(self.summ[i],self.review[:1000].transpose()/np.sqrt(1400))) -(np.max(np.matmul(self.summ[i],self.review[:1000].transpose())/np.sqrt(1400)))\n",
        "          b = e_x / e_x.sum(axis=0)\n",
        "          a.append(b)\n",
        "      a=np.array(a)\n",
        "      product=a.reshape(5,1000)\n",
        "      self.product=(np.array(product)*10)\n",
        "      return(self.product)\n",
        "    \n",
        "  def row_wise_multiplier(self):\n",
        "      f=[]\n",
        "      d=[]\n",
        "      self.product=self.product.transpose()\n",
        "      for i in range(len(self.product[:,1])):\n",
        "        c=0\n",
        "        for j in range(len(self.product[1])):\n",
        "            c=c+self.product[i][j]\n",
        "        d.append(c)\n",
        "        self.d=d\n",
        "      return(d)\n",
        "  def mlpinput(self):\n",
        "      D=np.matmul(self.d,self.review[:1000])\n",
        "      return(D)\n",
        "\n",
        "obj =summarise(review,summary)\n",
        "np.save('/content/gdrive/My Drive/aspect/2.npy',obj.attention())\n",
        "o=obj.attention()\n",
        "X=obj.row_wise_multiplier()\n",
        "Y=obj.mlpinput()\n",
        "\n",
        "print(o,Y)\n"
      ],
      "execution_count": 87,
      "outputs": [
        {
          "output_type": "stream",
          "text": [
            "[[-3.48917179e-04 -1.62176875e-04 -2.88855898e-04 ...  8.45027451e-05\n",
            "   1.55842007e-03 -4.03851332e-04]\n",
            " [ 6.89134610e-03  9.19092814e-03  1.50932508e-02 ... -4.20309906e-03\n",
            "  -5.63128362e-03 -5.48419226e-03]\n",
            " [ 5.27457677e-03  3.02613867e-02 -7.93084367e-03 ...  2.97456544e-02\n",
            "   2.48892648e-02  9.40178380e-03]\n",
            " [-3.00179541e-03 -5.40197374e-03 -3.11377667e-03 ... -1.61744794e-03\n",
            "  -4.65159069e-03  1.94410345e-03]\n",
            " [ 5.57833846e-04  5.98680835e-07  1.52007652e-02 ...  3.40757189e-07\n",
            "   6.40907725e-05  4.45471920e-05]] [-77.96103684  27.27831879 162.17974667 ...   0.           0.\n",
            "   0.        ]\n"
          ],
          "name": "stdout"
        }
      ]
    },
    {
      "metadata": {
        "id": "r6gaP0RApltQ",
        "colab_type": "code",
        "colab": {}
      },
      "cell_type": "code",
      "source": [
        ""
      ],
      "execution_count": 0,
      "outputs": []
    },
    {
      "metadata": {
        "id": "4X6dC-fXeD1-",
        "colab_type": "code",
        "outputId": "704be59f-8e0e-4b7a-e91d-d10dcb10a9fc",
        "colab": {
          "base_uri": "https://localhost:8080/",
          "height": 54
        }
      },
      "cell_type": "code",
      "source": [
        "print(X[:30])"
      ],
      "execution_count": 0,
      "outputs": [
        {
          "output_type": "stream",
          "text": [
            "[0.9977180765291961, 0.9987740019887433, 0.9952115133181803, 0.9669767783310471, 0.9983304163802708, 0.998199479895998, 0.9969836247591213, 0.9981734910342923, 0.9739919341525723, 0.9985627871764055, 0.998514890803571, 0.9974255415042432, 0.9976913651953836, 0.9992700583055952, 0.9985908510486785, 0.9992106677870015, 0.9979457864568086, 0.9985015682045528, 0.999579797642872, 0.9985112952613577, 0.998581797677572, 0.9987432095213966, 0.9987584215570516, 0.9950428309786338, 0.9992169750568365, 0.9979810338254094, 0.9989989696527873, 0.997602841539821, 0.9961929626660011, 0.9824941894493412]\n"
          ],
          "name": "stdout"
        }
      ]
    },
    {
      "metadata": {
        "id": "-iAp613tcZC9",
        "colab_type": "code",
        "colab": {}
      },
      "cell_type": "code",
      "source": [
        "class summarise(object):\n",
        "  def __init__(self,review,summ):\n",
        "    self.review=review\n",
        "    self.summ=summ\n",
        "    \n",
        "  def attention(self):\n",
        "    I = np.array([[1]*50]*50)\n",
        "    product=[]\n",
        "    \n",
        "    for i in range(5):\n",
        "      for j in range(1000):\n",
        "        e_x = np.exp(np.matmul(self.summ[i],self.review[j].transpose())/np.sqrt(28) - np.max(np.matmul(self.summ[i],self.review[i].transpose()/np.sqrt(28))))\n",
        "        b = e_x / e_x.sum(axis=0)\n",
        "        product.append(I-b)\n",
        "#     product.reshape()  \n",
        "    return(product)\n",
        "    \n",
        "obj =summarise(review,summary)\n",
        "np.save('/content/gdrive/My Drive/aspect/2.npy',obj.attention())\n",
        "obj.attention()\n"
      ],
      "execution_count": 0,
      "outputs": []
    },
    {
      "metadata": {
        "id": "WM48eQgJFx3K",
        "colab_type": "code",
        "colab": {}
      },
      "cell_type": "code",
      "source": [
        "class summarise(object):\n",
        "  def __init__(self,review,summ):\n",
        "    self.review=review.reshape(50992,1400)\n",
        "    self.summ=summ.reshape(50992,1400)\n",
        "    \n",
        "  def attention(self):\n",
        "    I = np.array([[1]*50992]*500)\n",
        "    product=[]\n",
        "    e_x = np.exp(np.matmul(self.summ[:500],self.review.transpose())/np.sqrt(1400) - np.max(np.matmul(self.summ[:500],self.review.transpose()/np.sqrt(1400))))\n",
        "    b = e_x / e_x.sum(axis=0)\n",
        "    product.append(I-b)\n",
        "    return(product)\n",
        "    \n",
        "    \n",
        "obj =summarise(review,summary)\n",
        "np.save('/content/gdrive/My Drive/aspect/2.npy',obj.attention())\n",
        "obj.attention()\n"
      ],
      "execution_count": 0,
      "outputs": []
    }
  ]
}