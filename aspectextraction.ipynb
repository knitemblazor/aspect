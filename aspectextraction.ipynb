{
  "nbformat": 4,
  "nbformat_minor": 0,
  "metadata": {
    "colab": {
      "name": "aspectextraction.ipynb",
      "version": "0.3.2",
      "provenance": [],
      "collapsed_sections": []
    },
    "kernelspec": {
      "name": "python3",
      "display_name": "Python 3"
    }
  },
  "cells": [
    {
      "metadata": {
        "id": "RcpWS46qEwpB",
        "colab_type": "code",
        "outputId": "6c506583-4eef-45ae-a82f-36d960e59058",
        "colab": {
          "base_uri": "https://localhost:8080/",
          "height": 34
        }
      },
      "cell_type": "code",
      "source": [
        "!ls /content/gdrive/'My Drive'/aspect\n"
      ],
      "execution_count": 0,
      "outputs": [
        {
          "output_type": "stream",
          "text": [
            "ls: cannot access '/content/gdrive/My Drive/aspect': No such file or directory\n"
          ],
          "name": "stdout"
        }
      ]
    },
    {
      "metadata": {
        "id": "AxekqQNwGwHi",
        "colab_type": "code",
        "outputId": "30a9e6c6-2786-48c4-9ec0-a665a5e842d8",
        "colab": {
          "base_uri": "https://localhost:8080/",
          "height": 34
        }
      },
      "cell_type": "code",
      "source": [
        "from google.colab import drive\n",
        "drive.mount('/content/gdrive')"
      ],
      "execution_count": 1,
      "outputs": [
        {
          "output_type": "stream",
          "text": [
            "Drive already mounted at /content/gdrive; to attempt to forcibly remount, call drive.mount(\"/content/gdrive\", force_remount=True).\n"
          ],
          "name": "stdout"
        }
      ]
    },
    {
      "metadata": {
        "id": "ygw2yQtgGA_o",
        "colab_type": "code",
        "outputId": "e6199dfa-0de5-4f02-914d-08c091f828ed",
        "colab": {
          "base_uri": "https://localhost:8080/",
          "height": 52
        }
      },
      "cell_type": "code",
      "source": [
        "!mv hashes.txt /content/gdrive/'My Drive'/aspect\n",
        "! rm -r Reviews.csv"
      ],
      "execution_count": 0,
      "outputs": [
        {
          "output_type": "stream",
          "text": [
            "mv: cannot stat 'hashes.txt': No such file or directory\n",
            "rm: cannot remove 'Reviews.csv': No such file or directory\n"
          ],
          "name": "stdout"
        }
      ]
    },
    {
      "metadata": {
        "id": "q1Fz-bEqGruj",
        "colab_type": "code",
        "colab": {}
      },
      "cell_type": "code",
      "source": [
        "ls -lat\n"
      ],
      "execution_count": 0,
      "outputs": []
    },
    {
      "metadata": {
        "id": "eVihZRLHM99Q",
        "colab_type": "code",
        "colab": {}
      },
      "cell_type": "code",
      "source": [
        "import pandas as pd\n",
        "\n",
        "df = pd.read_csv('/content/gdrive/My Drive/aspect/Reviews.csv')"
      ],
      "execution_count": 0,
      "outputs": []
    },
    {
      "metadata": {
        "id": "pCyeZaOfuEuh",
        "colab_type": "code",
        "outputId": "0b93c994-c06c-4037-f748-22590884df7e",
        "colab": {
          "base_uri": "https://localhost:8080/",
          "height": 364
        }
      },
      "cell_type": "code",
      "source": [
        "print(df.head())"
      ],
      "execution_count": 0,
      "outputs": [
        {
          "output_type": "stream",
          "text": [
            "   Id   ProductId          UserId                      ProfileName  \\\n",
            "0   1  B001E4KFG0  A3SGXH7AUHU8GW                       delmartian   \n",
            "1   2  B00813GRG4  A1D87F6ZCVE5NK                           dll pa   \n",
            "2   3  B000LQOCH0   ABXLMWJIXXAIN  Natalia Corres \"Natalia Corres\"   \n",
            "3   4  B000UA0QIQ  A395BORC6FGVXV                             Karl   \n",
            "4   5  B006K2ZZ7K  A1UQRSCLF8GW1T    Michael D. Bigham \"M. Wassir\"   \n",
            "\n",
            "   HelpfulnessNumerator  HelpfulnessDenominator  Score        Time  \\\n",
            "0                     1                       1      5  1303862400   \n",
            "1                     0                       0      1  1346976000   \n",
            "2                     1                       1      4  1219017600   \n",
            "3                     3                       3      2  1307923200   \n",
            "4                     0                       0      5  1350777600   \n",
            "\n",
            "                 Summary                                               Text  \n",
            "0  Good Quality Dog Food  I have bought several of the Vitality canned d...  \n",
            "1      Not as Advertised  Product arrived labeled as Jumbo Salted Peanut...  \n",
            "2  \"Delight\" says it all  This is a confection that has been around a fe...  \n",
            "3         Cough Medicine  If you are looking for the secret ingredient i...  \n",
            "4            Great taffy  Great taffy at a great price.  There was a wid...  \n"
          ],
          "name": "stdout"
        }
      ]
    },
    {
      "metadata": {
        "id": "pFe7GKsS2bXB",
        "colab_type": "code",
        "colab": {}
      },
      "cell_type": "code",
      "source": [
        "review =df['Text']\n",
        "summary =df['Summary']"
      ],
      "execution_count": 0,
      "outputs": []
    },
    {
      "metadata": {
        "id": "-hSSIu1s9lEo",
        "colab_type": "code",
        "colab": {}
      },
      "cell_type": "code",
      "source": [
        "review=list(review)\n",
        "summary=list(summary)"
      ],
      "execution_count": 0,
      "outputs": []
    },
    {
      "metadata": {
        "id": "Yhyek9-6AC2M",
        "colab_type": "code",
        "outputId": "4257092c-5167-4e44-fc55-c2e783553881",
        "colab": {
          "base_uri": "https://localhost:8080/",
          "height": 34
        }
      },
      "cell_type": "code",
      "source": [
        "print(len(review))"
      ],
      "execution_count": 0,
      "outputs": [
        {
          "output_type": "stream",
          "text": [
            "568454\n"
          ],
          "name": "stdout"
        }
      ]
    },
    {
      "metadata": {
        "id": "MMe2Z_YIAYU3",
        "colab_type": "code",
        "outputId": "d895a590-dbbe-44d0-d00d-3e50d69bfe41",
        "colab": {
          "base_uri": "https://localhost:8080/",
          "height": 208
        }
      },
      "cell_type": "code",
      "source": [
        "print((review[:10]))"
      ],
      "execution_count": 96,
      "outputs": [
        {
          "output_type": "stream",
          "text": [
            "                                              review\n",
            "0  i have bought several of the vitality canned d...\n",
            "1  product arrived labeled as jumbo salted peanut...\n",
            "2  this is a confection that has been around a fe...\n",
            "3  if you are looking for the secret ingredient i...\n",
            "4  great taffy at a great price there was a wide ...\n",
            "5  i got a wild hair for taffy and ordered this f...\n",
            "6  this saltwater taffy had great flavors and was...\n",
            "7  this taffy is so good it is very soft and chew...\n",
            "8  right now im mostly just sprouting this so my ...\n",
            "9  this is a very healthy dog food good for their...\n"
          ],
          "name": "stdout"
        }
      ]
    },
    {
      "metadata": {
        "id": "Zy86hFjcUZXs",
        "colab_type": "text"
      },
      "cell_type": "markdown",
      "source": [
        "punct removal and converting the text to lower case"
      ]
    },
    {
      "metadata": {
        "id": "dnrUsGUCAyRj",
        "colab_type": "code",
        "colab": {}
      },
      "cell_type": "code",
      "source": [
        "import string\n",
        "import re\n",
        "class clean(object):\n",
        "  def __init__(self,sentences):\n",
        "    self.sentences=sentences\n",
        "    \n",
        "  def punctremover(self):\n",
        "    sentencesf=[]\n",
        "    sense=self.sentences\n",
        "    toksense=[]\n",
        "    for s in sense:\n",
        "      toksense.append(str(s).split())\n",
        "    res1 = []\n",
        "    res2=[]\n",
        "    sen=[]\n",
        "    for text in toksense:\n",
        "      s = re.sub(r'[^\\w\\s]','',str(text))\n",
        "      res1.append(s)      \n",
        "    for text in res1:\n",
        "      new = ''.join(c.lower() for c in text)\n",
        "      res2.append(new)\n",
        "    return res2\n",
        "\n",
        "obj = clean(review)\n",
        "text =obj.punctremover()"
      ],
      "execution_count": 0,
      "outputs": []
    },
    {
      "metadata": {
        "id": "T2zsLBgzmIQV",
        "colab_type": "code",
        "colab": {}
      },
      "cell_type": "code",
      "source": [
        "import csv\n",
        "\n",
        "with open(\"/content/gdrive/My Drive/aspect/review.csv\", \"a\",newline='\\n') as fp:\n",
        "    wr = csv.writer(fp, dialect='excel')\n",
        "    wr.writerow(text)"
      ],
      "execution_count": 0,
      "outputs": []
    },
    {
      "metadata": {
        "id": "KDMatyBimhUq",
        "colab_type": "code",
        "colab": {}
      },
      "cell_type": "code",
      "source": [
        "import pandas as pd\n",
        "summary=pd.read_csv('/content/gdrive/My Drive/aspect/summary.csv',header=None)\n",
        "review= pd.read_csv('/content/gdrive/My Drive/aspect/review.csv',header=None)"
      ],
      "execution_count": 0,
      "outputs": []
    },
    {
      "metadata": {
        "id": "KSU_iG0-m5bt",
        "colab_type": "code",
        "colab": {}
      },
      "cell_type": "code",
      "source": [
        "summary = summary.transpose()\n",
        "review = review.transpose()\n",
        "print(summary,review)"
      ],
      "execution_count": 0,
      "outputs": []
    },
    {
      "metadata": {
        "id": "eTLziEURJI-p",
        "colab_type": "code",
        "colab": {
          "base_uri": "https://localhost:8080/",
          "height": 34
        },
        "outputId": "be412a4b-9292-4938-9550-e490e7cfb03e"
      },
      "cell_type": "code",
      "source": [
        "a=np.array(summary)\n",
        "print(type(a[1]))"
      ],
      "execution_count": 40,
      "outputs": [
        {
          "output_type": "stream",
          "text": [
            "<class 'numpy.ndarray'>\n"
          ],
          "name": "stdout"
        }
      ]
    },
    {
      "metadata": {
        "id": "cujXyhE0Jnp9",
        "colab_type": "code",
        "colab": {}
      },
      "cell_type": "code",
      "source": [
        "summary.columns = [\"summary\"]\n",
        "review.columns=[\"review\"]\n",
        "full=[]\n",
        "for i in range(568454):\n",
        "  full_text=review.at[i,\"review\"]\n",
        "  full.append(str(full_text).split())\n",
        "  "
      ],
      "execution_count": 0,
      "outputs": []
    },
    {
      "metadata": {
        "id": "hds0vbeGWpqt",
        "colab_type": "code",
        "colab": {}
      },
      "cell_type": "code",
      "source": [
        "import numpy as np\n",
        "from gensim.models import Word2Vec\n",
        "# model = Word2Vec(full,size=28, min_count=1)"
      ],
      "execution_count": 0,
      "outputs": []
    },
    {
      "metadata": {
        "id": "f2WK5SMYdE1O",
        "colab_type": "code",
        "colab": {}
      },
      "cell_type": "code",
      "source": [
        "model.save(\"/content/gdrive/My Drive/aspect/word2vec.model\")"
      ],
      "execution_count": 0,
      "outputs": []
    },
    {
      "metadata": {
        "id": "BqW5MZYGdDk5",
        "colab_type": "code",
        "colab": {
          "base_uri": "https://localhost:8080/",
          "height": 89
        },
        "outputId": "7c756440-0ac1-488c-c43e-0cf41ed8f4b7"
      },
      "cell_type": "code",
      "source": [
        "model = Word2Vec.load(\"/content/gdrive/My Drive/aspect/word2vec.model\")\n",
        "# print(model.wv['food'])\n",
        "zerovector=[]\n",
        "for i in range(28):\n",
        "  zerovector.append(0)\n",
        "def sentencevector(sent):\n",
        "  vector=[]\n",
        "  for word in sent:\n",
        "       vector.append(model[word])\n",
        "  if(len(sent)<28):\n",
        "    for i in range(len(sent),28):\n",
        "      vector.append(zerovector)\n",
        "  return(vector)\n",
        "\n",
        "Xtotal=[]\n",
        "for i in range(len(full)):\n",
        "  a=np.array(sentencevector(full[i]))\n",
        "  Xtotal.append(a)\n",
        "  \n",
        "print(len(Xtotal))"
      ],
      "execution_count": 6,
      "outputs": [
        {
          "output_type": "stream",
          "text": [
            "/usr/local/lib/python3.6/dist-packages/ipykernel_launcher.py:9: DeprecationWarning: Call to deprecated `__getitem__` (Method will be removed in 4.0.0, use self.wv.__getitem__() instead).\n",
            "  if __name__ == '__main__':\n"
          ],
          "name": "stderr"
        },
        {
          "output_type": "stream",
          "text": [
            "568454\n"
          ],
          "name": "stdout"
        }
      ]
    },
    {
      "metadata": {
        "id": "CA2sdW8JALuD",
        "colab_type": "code",
        "colab": {}
      },
      "cell_type": "code",
      "source": [
        "np.save('/content/gdrive/My Drive/aspect/reviewarr', np.array(Xtotal))"
      ],
      "execution_count": 0,
      "outputs": []
    },
    {
      "metadata": {
        "id": "Rot-_sd36Sb8",
        "colab_type": "code",
        "colab": {}
      },
      "cell_type": "code",
      "source": [
        "import pickle \n",
        "import numpy as np\n",
        "with open('/content/gdrive/My Drive/aspect/review.pkl','wb') as f:\n",
        "  pickle.dump(np.array(Xtotal), f)"
      ],
      "execution_count": 0,
      "outputs": []
    },
    {
      "metadata": {
        "id": "NjYnLReyRib5",
        "colab_type": "code",
        "colab": {}
      },
      "cell_type": "code",
      "source": [
        "a=summary[\"summary\"]\n",
        "sumv=[]\n",
        "for i in range(1):\n",
        "  c=a[i].split()\n",
        "  print(len(c))\n",
        "  s=[]\n",
        "  for j in range(len(c)):\n",
        "    s.append(embedding_index.get(c[i]))\n",
        "  sumv.append(s)\n",
        "print(sumv)\n"
      ],
      "execution_count": 0,
      "outputs": []
    },
    {
      "metadata": {
        "id": "9zQWLJ_mQGMi",
        "colab_type": "code",
        "colab": {}
      },
      "cell_type": "code",
      "source": [
        "print(full_text)"
      ],
      "execution_count": 0,
      "outputs": []
    },
    {
      "metadata": {
        "id": "I7-IgW7jQqmJ",
        "colab_type": "code",
        "colab": {}
      },
      "cell_type": "code",
      "source": [
        ""
      ],
      "execution_count": 0,
      "outputs": []
    },
    {
      "metadata": {
        "id": "WMMFkYOcRxCR",
        "colab_type": "code",
        "outputId": "b306a66a-6b39-4f67-c2ee-14570bf36920",
        "colab": {
          "base_uri": "https://localhost:8080/",
          "height": 208
        }
      },
      "cell_type": "code",
      "source": [
        "print(review[:10])"
      ],
      "execution_count": 46,
      "outputs": [
        {
          "output_type": "stream",
          "text": [
            "                                              review\n",
            "0  i have bought several of the vitality canned d...\n",
            "1  product arrived labeled as jumbo salted peanut...\n",
            "2  this is a confection that has been around a fe...\n",
            "3  if you are looking for the secret ingredient i...\n",
            "4  great taffy at a great price there was a wide ...\n",
            "5  i got a wild hair for taffy and ordered this f...\n",
            "6  this saltwater taffy had great flavors and was...\n",
            "7  this taffy is so good it is very soft and chew...\n",
            "8  right now im mostly just sprouting this so my ...\n",
            "9  this is a very healthy dog food good for their...\n"
          ],
          "name": "stdout"
        }
      ]
    },
    {
      "metadata": {
        "id": "4W81avZZq245",
        "colab_type": "code",
        "colab": {}
      },
      "cell_type": "code",
      "source": [
        "import numpy as np\n",
        "def get_coefs(word,*arr): \n",
        "  return word, np.asarray(arr, dtype='float32')\n",
        "path= '/content/gdrive/My Drive//lstm/glove.txt'\n",
        "embedding_index = dict(get_coefs(*o.strip().split(\" \")) for o in open(path))"
      ],
      "execution_count": 0,
      "outputs": []
    },
    {
      "metadata": {
        "id": "UMFNxbcRz1gD",
        "colab_type": "code",
        "colab": {}
      },
      "cell_type": "code",
      "source": [
        "embedding_vector = embedding_index.get(\"hello\")\n",
        "\n"
      ],
      "execution_count": 0,
      "outputs": []
    },
    {
      "metadata": {
        "id": "lOdYsB2gGK25",
        "colab_type": "code",
        "colab": {}
      },
      "cell_type": "code",
      "source": [
        "import numpy as np\n",
        "from gensim.models import Word2Vec"
      ],
      "execution_count": 0,
      "outputs": []
    }
  ]
}