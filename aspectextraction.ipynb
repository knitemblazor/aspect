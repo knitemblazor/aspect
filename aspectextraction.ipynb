{
  "nbformat": 4,
  "nbformat_minor": 0,
  "metadata": {
    "colab": {
      "name": "aspectextraction.ipynb",
      "version": "0.3.2",
      "provenance": [],
      "collapsed_sections": []
    },
    "kernelspec": {
      "name": "python3",
      "display_name": "Python 3"
    }
  },
  "cells": [
    {
      "metadata": {
        "id": "RcpWS46qEwpB",
        "colab_type": "code",
        "outputId": "6c506583-4eef-45ae-a82f-36d960e59058",
        "colab": {
          "base_uri": "https://localhost:8080/",
          "height": 34
        }
      },
      "cell_type": "code",
      "source": [
        "!ls /content/gdrive/'My Drive'/aspect\n"
      ],
      "execution_count": 0,
      "outputs": [
        {
          "output_type": "stream",
          "text": [
            "ls: cannot access '/content/gdrive/My Drive/aspect': No such file or directory\n"
          ],
          "name": "stdout"
        }
      ]
    },
    {
      "metadata": {
        "id": "AxekqQNwGwHi",
        "colab_type": "code",
        "outputId": "17b16514-8844-4b8b-a216-112303fd9677",
        "colab": {
          "base_uri": "https://localhost:8080/",
          "height": 34
        }
      },
      "cell_type": "code",
      "source": [
        "from google.colab import drive\n",
        "drive.mount('/content/gdrive')"
      ],
      "execution_count": 110,
      "outputs": [
        {
          "output_type": "stream",
          "text": [
            "Drive already mounted at /content/gdrive; to attempt to forcibly remount, call drive.mount(\"/content/gdrive\", force_remount=True).\n"
          ],
          "name": "stdout"
        }
      ]
    },
    {
      "metadata": {
        "id": "ygw2yQtgGA_o",
        "colab_type": "code",
        "outputId": "e6199dfa-0de5-4f02-914d-08c091f828ed",
        "colab": {
          "base_uri": "https://localhost:8080/",
          "height": 52
        }
      },
      "cell_type": "code",
      "source": [
        "!mv hashes.txt /content/gdrive/'My Drive'/aspect\n",
        "! rm -r Reviews.csv"
      ],
      "execution_count": 0,
      "outputs": [
        {
          "output_type": "stream",
          "text": [
            "mv: cannot stat 'hashes.txt': No such file or directory\n",
            "rm: cannot remove 'Reviews.csv': No such file or directory\n"
          ],
          "name": "stdout"
        }
      ]
    },
    {
      "metadata": {
        "id": "q1Fz-bEqGruj",
        "colab_type": "code",
        "colab": {}
      },
      "cell_type": "code",
      "source": [
        "ls -lat\n"
      ],
      "execution_count": 0,
      "outputs": []
    },
    {
      "metadata": {
        "id": "eVihZRLHM99Q",
        "colab_type": "code",
        "colab": {}
      },
      "cell_type": "code",
      "source": [
        "import pandas as pd\n",
        "\n",
        "df = pd.read_csv('/content/gdrive/My Drive/aspect/Reviews.csv')"
      ],
      "execution_count": 0,
      "outputs": []
    },
    {
      "metadata": {
        "id": "pCyeZaOfuEuh",
        "colab_type": "code",
        "outputId": "0b93c994-c06c-4037-f748-22590884df7e",
        "colab": {
          "base_uri": "https://localhost:8080/",
          "height": 364
        }
      },
      "cell_type": "code",
      "source": [
        "print(df.head())"
      ],
      "execution_count": 0,
      "outputs": [
        {
          "output_type": "stream",
          "text": [
            "   Id   ProductId          UserId                      ProfileName  \\\n",
            "0   1  B001E4KFG0  A3SGXH7AUHU8GW                       delmartian   \n",
            "1   2  B00813GRG4  A1D87F6ZCVE5NK                           dll pa   \n",
            "2   3  B000LQOCH0   ABXLMWJIXXAIN  Natalia Corres \"Natalia Corres\"   \n",
            "3   4  B000UA0QIQ  A395BORC6FGVXV                             Karl   \n",
            "4   5  B006K2ZZ7K  A1UQRSCLF8GW1T    Michael D. Bigham \"M. Wassir\"   \n",
            "\n",
            "   HelpfulnessNumerator  HelpfulnessDenominator  Score        Time  \\\n",
            "0                     1                       1      5  1303862400   \n",
            "1                     0                       0      1  1346976000   \n",
            "2                     1                       1      4  1219017600   \n",
            "3                     3                       3      2  1307923200   \n",
            "4                     0                       0      5  1350777600   \n",
            "\n",
            "                 Summary                                               Text  \n",
            "0  Good Quality Dog Food  I have bought several of the Vitality canned d...  \n",
            "1      Not as Advertised  Product arrived labeled as Jumbo Salted Peanut...  \n",
            "2  \"Delight\" says it all  This is a confection that has been around a fe...  \n",
            "3         Cough Medicine  If you are looking for the secret ingredient i...  \n",
            "4            Great taffy  Great taffy at a great price.  There was a wid...  \n"
          ],
          "name": "stdout"
        }
      ]
    },
    {
      "metadata": {
        "id": "pFe7GKsS2bXB",
        "colab_type": "code",
        "colab": {}
      },
      "cell_type": "code",
      "source": [
        "review =df['Text']\n",
        "summary =df['Summary']"
      ],
      "execution_count": 0,
      "outputs": []
    },
    {
      "metadata": {
        "id": "-hSSIu1s9lEo",
        "colab_type": "code",
        "colab": {}
      },
      "cell_type": "code",
      "source": [
        "review=list(review)\n",
        "summary=list(summary)"
      ],
      "execution_count": 0,
      "outputs": []
    },
    {
      "metadata": {
        "id": "Yhyek9-6AC2M",
        "colab_type": "code",
        "outputId": "4257092c-5167-4e44-fc55-c2e783553881",
        "colab": {
          "base_uri": "https://localhost:8080/",
          "height": 34
        }
      },
      "cell_type": "code",
      "source": [
        "print(len(review))"
      ],
      "execution_count": 0,
      "outputs": [
        {
          "output_type": "stream",
          "text": [
            "568454\n"
          ],
          "name": "stdout"
        }
      ]
    },
    {
      "metadata": {
        "id": "MMe2Z_YIAYU3",
        "colab_type": "code",
        "outputId": "d895a590-dbbe-44d0-d00d-3e50d69bfe41",
        "colab": {
          "base_uri": "https://localhost:8080/",
          "height": 208
        }
      },
      "cell_type": "code",
      "source": [
        "print((review[:10]))"
      ],
      "execution_count": 96,
      "outputs": [
        {
          "output_type": "stream",
          "text": [
            "                                              review\n",
            "0  i have bought several of the vitality canned d...\n",
            "1  product arrived labeled as jumbo salted peanut...\n",
            "2  this is a confection that has been around a fe...\n",
            "3  if you are looking for the secret ingredient i...\n",
            "4  great taffy at a great price there was a wide ...\n",
            "5  i got a wild hair for taffy and ordered this f...\n",
            "6  this saltwater taffy had great flavors and was...\n",
            "7  this taffy is so good it is very soft and chew...\n",
            "8  right now im mostly just sprouting this so my ...\n",
            "9  this is a very healthy dog food good for their...\n"
          ],
          "name": "stdout"
        }
      ]
    },
    {
      "metadata": {
        "id": "Zy86hFjcUZXs",
        "colab_type": "text"
      },
      "cell_type": "markdown",
      "source": [
        "punct removal and converting the text to lower case"
      ]
    },
    {
      "metadata": {
        "id": "dnrUsGUCAyRj",
        "colab_type": "code",
        "colab": {}
      },
      "cell_type": "code",
      "source": [
        "import string\n",
        "import re\n",
        "class clean(object):\n",
        "  def __init__(self,sentences):\n",
        "    self.sentences=sentences\n",
        "    \n",
        "  def punctremover(self):\n",
        "    sentencesf=[]\n",
        "    sense=self.sentences\n",
        "    toksense=[]\n",
        "    for s in sense:\n",
        "      toksense.append(str(s).split())\n",
        "    res1 = []\n",
        "    res2=[]\n",
        "    sen=[]\n",
        "    for text in toksense:\n",
        "      s = re.sub(r'[^\\w\\s]','',str(text))\n",
        "      res1.append(s)      \n",
        "    for text in res1:\n",
        "      new = ''.join(c.lower() for c in text)\n",
        "      res2.append(new)\n",
        "    return res2\n",
        "\n",
        "obj = clean(review)\n",
        "text =obj.punctremover()"
      ],
      "execution_count": 0,
      "outputs": []
    },
    {
      "metadata": {
        "id": "T2zsLBgzmIQV",
        "colab_type": "code",
        "colab": {}
      },
      "cell_type": "code",
      "source": [
        "import csv\n",
        "\n",
        "with open(\"/content/gdrive/My Drive/aspect/review.csv\", \"a\",newline='\\n') as fp:\n",
        "    wr = csv.writer(fp, dialect='excel')\n",
        "    wr.writerow(text)"
      ],
      "execution_count": 0,
      "outputs": []
    },
    {
      "metadata": {
        "id": "KDMatyBimhUq",
        "colab_type": "code",
        "colab": {}
      },
      "cell_type": "code",
      "source": [
        "import pandas as pd\n",
        "summary=pd.read_csv('/content/gdrive/My Drive/aspect/summary.csv',header=None)\n",
        "review= pd.read_csv('/content/gdrive/My Drive/aspect/review.csv',header=None)"
      ],
      "execution_count": 0,
      "outputs": []
    },
    {
      "metadata": {
        "id": "KSU_iG0-m5bt",
        "colab_type": "code",
        "colab": {}
      },
      "cell_type": "code",
      "source": [
        "summary = summary.transpose()\n",
        "review = review.transpose()\n",
        "print(summary,review)"
      ],
      "execution_count": 0,
      "outputs": []
    },
    {
      "metadata": {
        "id": "eTLziEURJI-p",
        "colab_type": "code",
        "colab": {
          "base_uri": "https://localhost:8080/",
          "height": 34
        },
        "outputId": "be412a4b-9292-4938-9550-e490e7cfb03e"
      },
      "cell_type": "code",
      "source": [
        "a=np.array(summary)\n",
        "print(type(a[1]))"
      ],
      "execution_count": 40,
      "outputs": [
        {
          "output_type": "stream",
          "text": [
            "<class 'numpy.ndarray'>\n"
          ],
          "name": "stdout"
        }
      ]
    },
    {
      "metadata": {
        "id": "cujXyhE0Jnp9",
        "colab_type": "code",
        "colab": {}
      },
      "cell_type": "code",
      "source": [
        "summary.columns = [\"summary\"]\n",
        "review.columns=[\"review\"]\n",
        "full=[]\n",
        "for i in range(568454):\n",
        "  full_text=review.at[i,\"review\"]\n",
        "  full.append(str(full_text).split())\n",
        "  "
      ],
      "execution_count": 0,
      "outputs": []
    },
    {
      "metadata": {
        "id": "dFpW6D7tjPF8",
        "colab_type": "code",
        "colab": {}
      },
      "cell_type": "code",
      "source": [
        ""
      ],
      "execution_count": 0,
      "outputs": []
    },
    {
      "metadata": {
        "id": "4BZE_6zfaZgL",
        "colab_type": "code",
        "colab": {
          "base_uri": "https://localhost:8080/",
          "height": 34
        },
        "outputId": "f6da132b-e3f5-4960-c446-568ae832e762"
      },
      "cell_type": "code",
      "source": [
        "print([1,2,3]+[1,2,3])"
      ],
      "execution_count": 83,
      "outputs": [
        {
          "output_type": "stream",
          "text": [
            "[1, 2, 3, 1, 2, 3]\n"
          ],
          "name": "stdout"
        }
      ]
    },
    {
      "metadata": {
        "id": "hds0vbeGWpqt",
        "colab_type": "code",
        "colab": {}
      },
      "cell_type": "code",
      "source": [
        "import numpy as np\n",
        "from gensim.models import Word2Vec\n",
        "model = Word2Vec(full,size=28, min_count=1)"
      ],
      "execution_count": 0,
      "outputs": []
    },
    {
      "metadata": {
        "id": "f2WK5SMYdE1O",
        "colab_type": "code",
        "colab": {}
      },
      "cell_type": "code",
      "source": [
        "model.save(\"/content/gdrive/My Drive/aspect/word2vec.model\")"
      ],
      "execution_count": 0,
      "outputs": []
    },
    {
      "metadata": {
        "id": "BqW5MZYGdDk5",
        "colab_type": "code",
        "colab": {
          "base_uri": "https://localhost:8080/",
          "height": 104
        },
        "outputId": "2b2e0ad4-cc8f-4e29-d577-75b95376dde0"
      },
      "cell_type": "code",
      "source": [
        "model = Word2Vec.load(\"/content/gdrive/My Drive/aspect/word2vec.model\")\n",
        "print(model.wv['food'])\n",
        "# def sentencevector(sent):\n",
        "#   vector=[]\n",
        "#   for word in sent:\n",
        "#        vector.append(model[word])\n",
        "#   if(len(sent)<28):\n",
        "#     for i in range(len(sent),28):\n",
        "#       vector.append(zerovector)\n",
        "#   return(vector)\n",
        "\n",
        "# Xtotal=[]\n",
        "# Ytotal=labelf\n",
        "# for i in range(len(sentencesf)):\n",
        "#   a=np.array(sentencevector(sentencesf[i]))\n",
        "#   Xtotal.append(a)"
      ],
      "execution_count": 144,
      "outputs": [
        {
          "output_type": "stream",
          "text": [
            "[ 0.2422127  -7.456761    0.6007155   1.7460917  -0.14419563  1.3058141\n",
            " -0.46746632  6.385296    2.1728492  -0.25321326  0.08319945 -3.30006\n",
            " -6.7074566  -9.384726    5.567459   -3.772726   -2.7396724   4.8423123\n",
            " -2.7220087   0.51018935 -0.8837176   3.4346597  -5.893146   -5.4352\n",
            " -0.46765134 -4.068295   -4.726082    2.6098852 ]\n"
          ],
          "name": "stdout"
        }
      ]
    },
    {
      "metadata": {
        "id": "NjYnLReyRib5",
        "colab_type": "code",
        "colab": {
          "base_uri": "https://localhost:8080/",
          "height": 4220
        },
        "outputId": "d852b1b3-7ce7-447e-e918-ad733909013a"
      },
      "cell_type": "code",
      "source": [
        "a=summary[\"summary\"]\n",
        "sumv=[]\n",
        "for i in range(1):\n",
        "  c=a[i].split()\n",
        "  print(len(c))\n",
        "  s=[]\n",
        "  for j in range(len(c)):\n",
        "    s.append(embedding_index.get(c[i]))\n",
        "  sumv.append(s)\n",
        "print(sumv)\n"
      ],
      "execution_count": 66,
      "outputs": [
        {
          "output_type": "stream",
          "text": [
            "4\n",
            "[[array([-0.42625  ,  0.4431   , -0.34517  , -0.1326   , -0.05816  ,\n",
            "        0.052598 ,  0.21575  , -0.36721  , -0.04519  ,  2.2444   ,\n",
            "       -0.29089  ,  0.1667   , -0.052051 ,  0.15964  , -0.42759  ,\n",
            "       -0.11147  , -0.14951  ,  1.18     , -0.19603  ,  0.15592  ,\n",
            "       -0.06112  , -0.011576 ,  0.26849  , -0.30175  , -0.055796 ,\n",
            "        0.12116  ,  0.010542 , -0.18065  ,  0.23281  , -0.26367  ,\n",
            "        0.11032  ,  0.06216  ,  0.015019 , -0.10687  ,  0.098486 ,\n",
            "        0.048457 ,  0.33355  , -0.16177  , -0.28503  , -0.28655  ,\n",
            "       -0.11245  ,  0.12417  , -0.24975  , -0.2008   ,  0.26034  ,\n",
            "        0.25208  , -0.17841  ,  0.15395  , -0.19799  , -0.22644  ,\n",
            "       -0.074088 ,  0.50289  ,  0.32105  , -0.034766 ,  0.16543  ,\n",
            "        0.057095 , -0.20973  ,  0.098376 ,  0.035058 , -0.023057 ,\n",
            "       -0.11736  , -0.51327  , -0.020999 ,  0.39962  ,  0.30533  ,\n",
            "       -0.38839  ,  0.0026097,  0.29022  ,  0.017045 ,  0.063961 ,\n",
            "        0.10789  ,  0.29013  ,  0.061732 ,  0.068231 , -0.014031 ,\n",
            "        0.048649 , -0.011663 , -0.26527  , -0.14494  ,  0.45397  ,\n",
            "        0.067191 ,  0.14195  ,  0.37302  , -0.0076579,  0.018443 ,\n",
            "       -0.10224  , -0.0051647, -0.12233  ,  0.25855  , -0.11212  ,\n",
            "       -0.053952 , -0.19947  , -0.32291  ,  0.26205  ,  0.35758  ,\n",
            "       -0.2607   ,  0.37932  , -0.4268   ,  0.061313 ,  0.0085055,\n",
            "       -0.31061  , -0.15091  , -0.22569  ,  0.074085 ,  0.26419  ,\n",
            "       -0.9689   ,  0.3205   ,  0.013197 ,  0.020656 , -0.24059  ,\n",
            "        0.21454  , -0.38931  , -0.058037 , -0.055826 ,  0.22324  ,\n",
            "        0.18331  , -0.024247 , -0.1512   , -0.010921 , -0.27556  ,\n",
            "        0.31151  ,  0.21918  , -0.091469 ,  0.055151 ,  0.0064999,\n",
            "        0.13427  , -0.28369  , -0.38306  ,  0.073976 , -0.061432 ,\n",
            "        0.11585  , -0.093184 , -0.09172  , -0.22746  , -0.11907  ,\n",
            "        0.21006  ,  0.0097736, -0.23443  ,  0.29533  , -0.26389  ,\n",
            "       -2.1549   ,  0.391    ,  0.60844  ,  0.021372 , -0.29117  ,\n",
            "       -0.52578  , -0.30445  , -0.12788  ,  0.39592  ,  0.20246  ,\n",
            "       -0.38065  , -0.076001 ,  0.046315 , -0.24566  ,  0.014438 ,\n",
            "       -0.0095246, -0.029197 , -0.11232  , -0.029992 , -0.52387  ,\n",
            "        0.05365  ,  0.032134 ,  0.35621  ,  0.040588 ,  0.28366  ,\n",
            "       -0.51086  ,  0.20677  , -0.3715   ,  0.19042  , -0.048069 ,\n",
            "        0.0025944, -0.069552 ,  0.20583  , -0.40107  ,  0.0066834,\n",
            "        0.066419 , -0.19584  ,  0.19296  ,  0.14749  , -0.0423   ,\n",
            "       -0.044897 , -0.46937  , -0.38399  ,  0.019192 , -0.24857  ,\n",
            "       -0.14294  , -0.085374 , -0.088101 ,  0.23245  , -0.16668  ,\n",
            "       -0.025019 , -0.029291 , -0.0046514, -0.12139  , -0.20833  ,\n",
            "        0.24371  ,  0.060033 , -0.18485  ,  0.33876  ,  0.058523 ,\n",
            "        0.11933  ,  0.066886 , -0.20035  , -0.054426 ,  0.03731  ,\n",
            "        0.22031  , -0.22824  ,  0.048875 ,  0.060931 ,  0.026946 ,\n",
            "       -0.20081  , -0.005543 ,  0.043733 , -0.60604  , -0.20841  ,\n",
            "        0.13012  ,  0.18033  , -0.086796 , -0.13199  ,  0.05757  ,\n",
            "       -0.161    , -0.07107  ,  0.015812 ,  0.40779  ,  0.53949  ,\n",
            "        0.13829  , -0.20688  ,  0.076653 ,  0.097948 ,  0.071683 ,\n",
            "       -0.10647  ,  0.054176 , -0.2932   ,  0.14681  ,  0.16784  ,\n",
            "       -0.20442  ,  0.047034 , -0.31862  , -0.2226   ,  0.12788  ,\n",
            "        0.17326  , -0.10272  , -0.15957  ,  0.25465  ,  0.27582  ,\n",
            "        0.011341 , -0.21905  , -0.50156  , -0.15053  ,  0.098795 ,\n",
            "        0.31615  , -0.087923 , -0.48265  , -0.1241   , -0.11466  ,\n",
            "        0.22522  ,  0.28101  , -0.38343  , -0.19752  ,  0.067079 ,\n",
            "       -0.1339   ,  0.1416   ,  0.26925  ,  0.42701  ,  0.1372   ,\n",
            "       -0.13302  ,  0.13731  ,  0.32494  ,  0.55031  ,  0.25321  ,\n",
            "        0.077384 ,  0.049114 , -0.36115  , -0.52553  , -0.37361  ,\n",
            "        0.36655  ,  0.032056 , -0.28452  ,  0.14393  ,  0.70665  ,\n",
            "       -0.2256   , -0.2962   , -0.18957  , -0.04505  , -0.023948 ,\n",
            "        0.078238 ,  0.08545  , -0.23747  ,  0.17435  ,  0.039811 ,\n",
            "       -0.45907  , -0.052783 , -0.32051  , -0.12172  ,  0.31545  ,\n",
            "        0.045489 ,  0.22644  , -0.4303   , -0.068851 ,  0.12875  ],\n",
            "      dtype=float32), array([-0.42625  ,  0.4431   , -0.34517  , -0.1326   , -0.05816  ,\n",
            "        0.052598 ,  0.21575  , -0.36721  , -0.04519  ,  2.2444   ,\n",
            "       -0.29089  ,  0.1667   , -0.052051 ,  0.15964  , -0.42759  ,\n",
            "       -0.11147  , -0.14951  ,  1.18     , -0.19603  ,  0.15592  ,\n",
            "       -0.06112  , -0.011576 ,  0.26849  , -0.30175  , -0.055796 ,\n",
            "        0.12116  ,  0.010542 , -0.18065  ,  0.23281  , -0.26367  ,\n",
            "        0.11032  ,  0.06216  ,  0.015019 , -0.10687  ,  0.098486 ,\n",
            "        0.048457 ,  0.33355  , -0.16177  , -0.28503  , -0.28655  ,\n",
            "       -0.11245  ,  0.12417  , -0.24975  , -0.2008   ,  0.26034  ,\n",
            "        0.25208  , -0.17841  ,  0.15395  , -0.19799  , -0.22644  ,\n",
            "       -0.074088 ,  0.50289  ,  0.32105  , -0.034766 ,  0.16543  ,\n",
            "        0.057095 , -0.20973  ,  0.098376 ,  0.035058 , -0.023057 ,\n",
            "       -0.11736  , -0.51327  , -0.020999 ,  0.39962  ,  0.30533  ,\n",
            "       -0.38839  ,  0.0026097,  0.29022  ,  0.017045 ,  0.063961 ,\n",
            "        0.10789  ,  0.29013  ,  0.061732 ,  0.068231 , -0.014031 ,\n",
            "        0.048649 , -0.011663 , -0.26527  , -0.14494  ,  0.45397  ,\n",
            "        0.067191 ,  0.14195  ,  0.37302  , -0.0076579,  0.018443 ,\n",
            "       -0.10224  , -0.0051647, -0.12233  ,  0.25855  , -0.11212  ,\n",
            "       -0.053952 , -0.19947  , -0.32291  ,  0.26205  ,  0.35758  ,\n",
            "       -0.2607   ,  0.37932  , -0.4268   ,  0.061313 ,  0.0085055,\n",
            "       -0.31061  , -0.15091  , -0.22569  ,  0.074085 ,  0.26419  ,\n",
            "       -0.9689   ,  0.3205   ,  0.013197 ,  0.020656 , -0.24059  ,\n",
            "        0.21454  , -0.38931  , -0.058037 , -0.055826 ,  0.22324  ,\n",
            "        0.18331  , -0.024247 , -0.1512   , -0.010921 , -0.27556  ,\n",
            "        0.31151  ,  0.21918  , -0.091469 ,  0.055151 ,  0.0064999,\n",
            "        0.13427  , -0.28369  , -0.38306  ,  0.073976 , -0.061432 ,\n",
            "        0.11585  , -0.093184 , -0.09172  , -0.22746  , -0.11907  ,\n",
            "        0.21006  ,  0.0097736, -0.23443  ,  0.29533  , -0.26389  ,\n",
            "       -2.1549   ,  0.391    ,  0.60844  ,  0.021372 , -0.29117  ,\n",
            "       -0.52578  , -0.30445  , -0.12788  ,  0.39592  ,  0.20246  ,\n",
            "       -0.38065  , -0.076001 ,  0.046315 , -0.24566  ,  0.014438 ,\n",
            "       -0.0095246, -0.029197 , -0.11232  , -0.029992 , -0.52387  ,\n",
            "        0.05365  ,  0.032134 ,  0.35621  ,  0.040588 ,  0.28366  ,\n",
            "       -0.51086  ,  0.20677  , -0.3715   ,  0.19042  , -0.048069 ,\n",
            "        0.0025944, -0.069552 ,  0.20583  , -0.40107  ,  0.0066834,\n",
            "        0.066419 , -0.19584  ,  0.19296  ,  0.14749  , -0.0423   ,\n",
            "       -0.044897 , -0.46937  , -0.38399  ,  0.019192 , -0.24857  ,\n",
            "       -0.14294  , -0.085374 , -0.088101 ,  0.23245  , -0.16668  ,\n",
            "       -0.025019 , -0.029291 , -0.0046514, -0.12139  , -0.20833  ,\n",
            "        0.24371  ,  0.060033 , -0.18485  ,  0.33876  ,  0.058523 ,\n",
            "        0.11933  ,  0.066886 , -0.20035  , -0.054426 ,  0.03731  ,\n",
            "        0.22031  , -0.22824  ,  0.048875 ,  0.060931 ,  0.026946 ,\n",
            "       -0.20081  , -0.005543 ,  0.043733 , -0.60604  , -0.20841  ,\n",
            "        0.13012  ,  0.18033  , -0.086796 , -0.13199  ,  0.05757  ,\n",
            "       -0.161    , -0.07107  ,  0.015812 ,  0.40779  ,  0.53949  ,\n",
            "        0.13829  , -0.20688  ,  0.076653 ,  0.097948 ,  0.071683 ,\n",
            "       -0.10647  ,  0.054176 , -0.2932   ,  0.14681  ,  0.16784  ,\n",
            "       -0.20442  ,  0.047034 , -0.31862  , -0.2226   ,  0.12788  ,\n",
            "        0.17326  , -0.10272  , -0.15957  ,  0.25465  ,  0.27582  ,\n",
            "        0.011341 , -0.21905  , -0.50156  , -0.15053  ,  0.098795 ,\n",
            "        0.31615  , -0.087923 , -0.48265  , -0.1241   , -0.11466  ,\n",
            "        0.22522  ,  0.28101  , -0.38343  , -0.19752  ,  0.067079 ,\n",
            "       -0.1339   ,  0.1416   ,  0.26925  ,  0.42701  ,  0.1372   ,\n",
            "       -0.13302  ,  0.13731  ,  0.32494  ,  0.55031  ,  0.25321  ,\n",
            "        0.077384 ,  0.049114 , -0.36115  , -0.52553  , -0.37361  ,\n",
            "        0.36655  ,  0.032056 , -0.28452  ,  0.14393  ,  0.70665  ,\n",
            "       -0.2256   , -0.2962   , -0.18957  , -0.04505  , -0.023948 ,\n",
            "        0.078238 ,  0.08545  , -0.23747  ,  0.17435  ,  0.039811 ,\n",
            "       -0.45907  , -0.052783 , -0.32051  , -0.12172  ,  0.31545  ,\n",
            "        0.045489 ,  0.22644  , -0.4303   , -0.068851 ,  0.12875  ],\n",
            "      dtype=float32), array([-0.42625  ,  0.4431   , -0.34517  , -0.1326   , -0.05816  ,\n",
            "        0.052598 ,  0.21575  , -0.36721  , -0.04519  ,  2.2444   ,\n",
            "       -0.29089  ,  0.1667   , -0.052051 ,  0.15964  , -0.42759  ,\n",
            "       -0.11147  , -0.14951  ,  1.18     , -0.19603  ,  0.15592  ,\n",
            "       -0.06112  , -0.011576 ,  0.26849  , -0.30175  , -0.055796 ,\n",
            "        0.12116  ,  0.010542 , -0.18065  ,  0.23281  , -0.26367  ,\n",
            "        0.11032  ,  0.06216  ,  0.015019 , -0.10687  ,  0.098486 ,\n",
            "        0.048457 ,  0.33355  , -0.16177  , -0.28503  , -0.28655  ,\n",
            "       -0.11245  ,  0.12417  , -0.24975  , -0.2008   ,  0.26034  ,\n",
            "        0.25208  , -0.17841  ,  0.15395  , -0.19799  , -0.22644  ,\n",
            "       -0.074088 ,  0.50289  ,  0.32105  , -0.034766 ,  0.16543  ,\n",
            "        0.057095 , -0.20973  ,  0.098376 ,  0.035058 , -0.023057 ,\n",
            "       -0.11736  , -0.51327  , -0.020999 ,  0.39962  ,  0.30533  ,\n",
            "       -0.38839  ,  0.0026097,  0.29022  ,  0.017045 ,  0.063961 ,\n",
            "        0.10789  ,  0.29013  ,  0.061732 ,  0.068231 , -0.014031 ,\n",
            "        0.048649 , -0.011663 , -0.26527  , -0.14494  ,  0.45397  ,\n",
            "        0.067191 ,  0.14195  ,  0.37302  , -0.0076579,  0.018443 ,\n",
            "       -0.10224  , -0.0051647, -0.12233  ,  0.25855  , -0.11212  ,\n",
            "       -0.053952 , -0.19947  , -0.32291  ,  0.26205  ,  0.35758  ,\n",
            "       -0.2607   ,  0.37932  , -0.4268   ,  0.061313 ,  0.0085055,\n",
            "       -0.31061  , -0.15091  , -0.22569  ,  0.074085 ,  0.26419  ,\n",
            "       -0.9689   ,  0.3205   ,  0.013197 ,  0.020656 , -0.24059  ,\n",
            "        0.21454  , -0.38931  , -0.058037 , -0.055826 ,  0.22324  ,\n",
            "        0.18331  , -0.024247 , -0.1512   , -0.010921 , -0.27556  ,\n",
            "        0.31151  ,  0.21918  , -0.091469 ,  0.055151 ,  0.0064999,\n",
            "        0.13427  , -0.28369  , -0.38306  ,  0.073976 , -0.061432 ,\n",
            "        0.11585  , -0.093184 , -0.09172  , -0.22746  , -0.11907  ,\n",
            "        0.21006  ,  0.0097736, -0.23443  ,  0.29533  , -0.26389  ,\n",
            "       -2.1549   ,  0.391    ,  0.60844  ,  0.021372 , -0.29117  ,\n",
            "       -0.52578  , -0.30445  , -0.12788  ,  0.39592  ,  0.20246  ,\n",
            "       -0.38065  , -0.076001 ,  0.046315 , -0.24566  ,  0.014438 ,\n",
            "       -0.0095246, -0.029197 , -0.11232  , -0.029992 , -0.52387  ,\n",
            "        0.05365  ,  0.032134 ,  0.35621  ,  0.040588 ,  0.28366  ,\n",
            "       -0.51086  ,  0.20677  , -0.3715   ,  0.19042  , -0.048069 ,\n",
            "        0.0025944, -0.069552 ,  0.20583  , -0.40107  ,  0.0066834,\n",
            "        0.066419 , -0.19584  ,  0.19296  ,  0.14749  , -0.0423   ,\n",
            "       -0.044897 , -0.46937  , -0.38399  ,  0.019192 , -0.24857  ,\n",
            "       -0.14294  , -0.085374 , -0.088101 ,  0.23245  , -0.16668  ,\n",
            "       -0.025019 , -0.029291 , -0.0046514, -0.12139  , -0.20833  ,\n",
            "        0.24371  ,  0.060033 , -0.18485  ,  0.33876  ,  0.058523 ,\n",
            "        0.11933  ,  0.066886 , -0.20035  , -0.054426 ,  0.03731  ,\n",
            "        0.22031  , -0.22824  ,  0.048875 ,  0.060931 ,  0.026946 ,\n",
            "       -0.20081  , -0.005543 ,  0.043733 , -0.60604  , -0.20841  ,\n",
            "        0.13012  ,  0.18033  , -0.086796 , -0.13199  ,  0.05757  ,\n",
            "       -0.161    , -0.07107  ,  0.015812 ,  0.40779  ,  0.53949  ,\n",
            "        0.13829  , -0.20688  ,  0.076653 ,  0.097948 ,  0.071683 ,\n",
            "       -0.10647  ,  0.054176 , -0.2932   ,  0.14681  ,  0.16784  ,\n",
            "       -0.20442  ,  0.047034 , -0.31862  , -0.2226   ,  0.12788  ,\n",
            "        0.17326  , -0.10272  , -0.15957  ,  0.25465  ,  0.27582  ,\n",
            "        0.011341 , -0.21905  , -0.50156  , -0.15053  ,  0.098795 ,\n",
            "        0.31615  , -0.087923 , -0.48265  , -0.1241   , -0.11466  ,\n",
            "        0.22522  ,  0.28101  , -0.38343  , -0.19752  ,  0.067079 ,\n",
            "       -0.1339   ,  0.1416   ,  0.26925  ,  0.42701  ,  0.1372   ,\n",
            "       -0.13302  ,  0.13731  ,  0.32494  ,  0.55031  ,  0.25321  ,\n",
            "        0.077384 ,  0.049114 , -0.36115  , -0.52553  , -0.37361  ,\n",
            "        0.36655  ,  0.032056 , -0.28452  ,  0.14393  ,  0.70665  ,\n",
            "       -0.2256   , -0.2962   , -0.18957  , -0.04505  , -0.023948 ,\n",
            "        0.078238 ,  0.08545  , -0.23747  ,  0.17435  ,  0.039811 ,\n",
            "       -0.45907  , -0.052783 , -0.32051  , -0.12172  ,  0.31545  ,\n",
            "        0.045489 ,  0.22644  , -0.4303   , -0.068851 ,  0.12875  ],\n",
            "      dtype=float32), array([-0.42625  ,  0.4431   , -0.34517  , -0.1326   , -0.05816  ,\n",
            "        0.052598 ,  0.21575  , -0.36721  , -0.04519  ,  2.2444   ,\n",
            "       -0.29089  ,  0.1667   , -0.052051 ,  0.15964  , -0.42759  ,\n",
            "       -0.11147  , -0.14951  ,  1.18     , -0.19603  ,  0.15592  ,\n",
            "       -0.06112  , -0.011576 ,  0.26849  , -0.30175  , -0.055796 ,\n",
            "        0.12116  ,  0.010542 , -0.18065  ,  0.23281  , -0.26367  ,\n",
            "        0.11032  ,  0.06216  ,  0.015019 , -0.10687  ,  0.098486 ,\n",
            "        0.048457 ,  0.33355  , -0.16177  , -0.28503  , -0.28655  ,\n",
            "       -0.11245  ,  0.12417  , -0.24975  , -0.2008   ,  0.26034  ,\n",
            "        0.25208  , -0.17841  ,  0.15395  , -0.19799  , -0.22644  ,\n",
            "       -0.074088 ,  0.50289  ,  0.32105  , -0.034766 ,  0.16543  ,\n",
            "        0.057095 , -0.20973  ,  0.098376 ,  0.035058 , -0.023057 ,\n",
            "       -0.11736  , -0.51327  , -0.020999 ,  0.39962  ,  0.30533  ,\n",
            "       -0.38839  ,  0.0026097,  0.29022  ,  0.017045 ,  0.063961 ,\n",
            "        0.10789  ,  0.29013  ,  0.061732 ,  0.068231 , -0.014031 ,\n",
            "        0.048649 , -0.011663 , -0.26527  , -0.14494  ,  0.45397  ,\n",
            "        0.067191 ,  0.14195  ,  0.37302  , -0.0076579,  0.018443 ,\n",
            "       -0.10224  , -0.0051647, -0.12233  ,  0.25855  , -0.11212  ,\n",
            "       -0.053952 , -0.19947  , -0.32291  ,  0.26205  ,  0.35758  ,\n",
            "       -0.2607   ,  0.37932  , -0.4268   ,  0.061313 ,  0.0085055,\n",
            "       -0.31061  , -0.15091  , -0.22569  ,  0.074085 ,  0.26419  ,\n",
            "       -0.9689   ,  0.3205   ,  0.013197 ,  0.020656 , -0.24059  ,\n",
            "        0.21454  , -0.38931  , -0.058037 , -0.055826 ,  0.22324  ,\n",
            "        0.18331  , -0.024247 , -0.1512   , -0.010921 , -0.27556  ,\n",
            "        0.31151  ,  0.21918  , -0.091469 ,  0.055151 ,  0.0064999,\n",
            "        0.13427  , -0.28369  , -0.38306  ,  0.073976 , -0.061432 ,\n",
            "        0.11585  , -0.093184 , -0.09172  , -0.22746  , -0.11907  ,\n",
            "        0.21006  ,  0.0097736, -0.23443  ,  0.29533  , -0.26389  ,\n",
            "       -2.1549   ,  0.391    ,  0.60844  ,  0.021372 , -0.29117  ,\n",
            "       -0.52578  , -0.30445  , -0.12788  ,  0.39592  ,  0.20246  ,\n",
            "       -0.38065  , -0.076001 ,  0.046315 , -0.24566  ,  0.014438 ,\n",
            "       -0.0095246, -0.029197 , -0.11232  , -0.029992 , -0.52387  ,\n",
            "        0.05365  ,  0.032134 ,  0.35621  ,  0.040588 ,  0.28366  ,\n",
            "       -0.51086  ,  0.20677  , -0.3715   ,  0.19042  , -0.048069 ,\n",
            "        0.0025944, -0.069552 ,  0.20583  , -0.40107  ,  0.0066834,\n",
            "        0.066419 , -0.19584  ,  0.19296  ,  0.14749  , -0.0423   ,\n",
            "       -0.044897 , -0.46937  , -0.38399  ,  0.019192 , -0.24857  ,\n",
            "       -0.14294  , -0.085374 , -0.088101 ,  0.23245  , -0.16668  ,\n",
            "       -0.025019 , -0.029291 , -0.0046514, -0.12139  , -0.20833  ,\n",
            "        0.24371  ,  0.060033 , -0.18485  ,  0.33876  ,  0.058523 ,\n",
            "        0.11933  ,  0.066886 , -0.20035  , -0.054426 ,  0.03731  ,\n",
            "        0.22031  , -0.22824  ,  0.048875 ,  0.060931 ,  0.026946 ,\n",
            "       -0.20081  , -0.005543 ,  0.043733 , -0.60604  , -0.20841  ,\n",
            "        0.13012  ,  0.18033  , -0.086796 , -0.13199  ,  0.05757  ,\n",
            "       -0.161    , -0.07107  ,  0.015812 ,  0.40779  ,  0.53949  ,\n",
            "        0.13829  , -0.20688  ,  0.076653 ,  0.097948 ,  0.071683 ,\n",
            "       -0.10647  ,  0.054176 , -0.2932   ,  0.14681  ,  0.16784  ,\n",
            "       -0.20442  ,  0.047034 , -0.31862  , -0.2226   ,  0.12788  ,\n",
            "        0.17326  , -0.10272  , -0.15957  ,  0.25465  ,  0.27582  ,\n",
            "        0.011341 , -0.21905  , -0.50156  , -0.15053  ,  0.098795 ,\n",
            "        0.31615  , -0.087923 , -0.48265  , -0.1241   , -0.11466  ,\n",
            "        0.22522  ,  0.28101  , -0.38343  , -0.19752  ,  0.067079 ,\n",
            "       -0.1339   ,  0.1416   ,  0.26925  ,  0.42701  ,  0.1372   ,\n",
            "       -0.13302  ,  0.13731  ,  0.32494  ,  0.55031  ,  0.25321  ,\n",
            "        0.077384 ,  0.049114 , -0.36115  , -0.52553  , -0.37361  ,\n",
            "        0.36655  ,  0.032056 , -0.28452  ,  0.14393  ,  0.70665  ,\n",
            "       -0.2256   , -0.2962   , -0.18957  , -0.04505  , -0.023948 ,\n",
            "        0.078238 ,  0.08545  , -0.23747  ,  0.17435  ,  0.039811 ,\n",
            "       -0.45907  , -0.052783 , -0.32051  , -0.12172  ,  0.31545  ,\n",
            "        0.045489 ,  0.22644  , -0.4303   , -0.068851 ,  0.12875  ],\n",
            "      dtype=float32)]]\n"
          ],
          "name": "stdout"
        }
      ]
    },
    {
      "metadata": {
        "id": "9zQWLJ_mQGMi",
        "colab_type": "code",
        "colab": {
          "base_uri": "https://localhost:8080/",
          "height": 54
        },
        "outputId": "2f174eae-a4c7-4bba-8140-0d59e1ed27a5"
      },
      "cell_type": "code",
      "source": [
        "print(full_text)"
      ],
      "execution_count": 51,
      "outputs": [
        {
          "output_type": "stream",
          "text": [
            "['i have bought several of the vitality canned dog food products and have found them all to be of good quality the product looks more like a stew than a processed meat and it smells better my labrador is finicky and she appreciates this product better than most', 'product arrived labeled as jumbo salted peanutsthe peanuts were actually small sized unsalted not sure if this was an error or if the vendor intended to represent the product as jumbo', 'this is a confection that has been around a few centuries it is a light pillowy citrus gelatin with nuts  in this case filberts and it is cut into tiny squares and then liberally coated with powdered sugar and it is a tiny mouthful of heaven not too chewy and very flavorful i highly recommend this yummy treat if you are familiar with the story of cs lewis the lion the witch and the wardrobe  this is the treat that seduces edmund into selling out his brother and sisters to the witch', 'if you are looking for the secret ingredient in robitussin i believe i have found it i got this in addition to the root beer extract i ordered which was good and made some cherry soda the flavor is very medicinal', 'great taffy at a great price there was a wide assortment of yummy taffy delivery was very quick if your a taffy lover this is a deal', 'i got a wild hair for taffy and ordered this five pound bag the taffy was all very enjoyable with many flavors watermelon root beer melon peppermint grape etc my only complaint is there was a bit too much redblack licoriceflavored pieces just not my particular favorites between me my kids and my husband this lasted only two weeks i would recommend this brand of taffy  it was a delightful treat', 'this saltwater taffy had great flavors and was very soft and chewy each candy was individually wrapped well none of the candies were stuck together which did happen in the expensive version fralingers would highly recommend this candy i served it at a beachthemed party and everyone loved it', 'this taffy is so good it is very soft and chewy the flavors are amazing i would definitely recommend you buying it very satisfying', 'right now im mostly just sprouting this so my cats can eat the grass they love it i rotate it around with wheatgrass and rye too', 'this is a very healthy dog food good for their digestion also good for small puppies my dog eats her required amount at every feeding', 'i dont know if its the cactus or the tequila or just the unique combination of ingredients but the flavour of this hot sauce makes it one of a kind we picked up a bottle once on a trip we were on and brought it back home with us and were totally blown away when we realized that we simply couldnt find it anywhere in our city we were bummedbr br now because of the magic of the internet we have a case of the sauce and are ecstatic because of itbr br if you love hot saucei mean really love hot sauce but dont want a sauce that tastelessly burns your throat grab a bottle of tequila picante gourmet de inclan just realize that once you taste it you will never want to use any other saucebr br thank you for the personal incredible service', 'one of my boys needed to lose some weight and the other didnt i put this food on the floor for the chubby guy and the proteinrich no byproduct food up higher where only my skinny boy can jump the higher food sits going stale they both really go for this food and my chubby boy has been losing about an ounce a week', 'my cats have been happily eating felidae platinum for more than two years i just got a new bag and the shape of the food is different they tried the new food when i first put it in their bowls and now the bowls sit full and the kitties will not touch the food ive noticed similar reviews related to formula changes in the past unfortunately i now need to find a new food that my cats will eat', 'good flavor these came securely packed they were fresh and delicious i love these twizzlers', 'the strawberry twizzlers are my guilty pleasure  yummy six pounds will be around for a while with my son and i', 'my daughter loves twizzlers and this shipment of six pounds really hit the spot its exactly what you would expectsix packages of strawberry twizzlers', 'i love eating them and they are good for watching tv and looking at movies it is not too sweet i like to transfer them to a zip lock baggie so they stay fresh so i can take my time eating them', 'i am very satisfied with my twizzler purchase i shared these with others and we have all enjoyed them i will definitely be ordering more', 'twizzlers strawberry my childhood favorite candy made in lancaster pennsylvania by y  s candies inc one of the oldest confectionery firms in the united states now a subsidiary of the hershey company the company was established in 1845 as young and smylie they also make apple licorice twists green color and blue raspberry licorice twists i like them allbr br i keep it in a dry cool place because is not recommended it to put it in the fridge according to the guinness book of records the longest licorice twist ever made measured 1200 feet 370 m and weighted 100 pounds 45 kg and was made by y  s candies inc this recordbreaking twist became a guinness world record on july 19 1998 this product is kosher thank you', 'candy was delivered very fast and was purchased at a reasonable price i was home bound and unable to get to a store so this was perfect for me', 'my husband is a twizzlers addict weve bought these many times from amazon because were government employees living overseas and cant get them in the country we are assigned to theyve always been fresh and tasty packed well and arrive in a timely manner', 'i bought these for my husband who is currently overseas he loves these and apparently his staff likes them alsobr there are generous amounts of twizzlers in each 16ounce bag and this was well worth the price a hrefhttpwwwamazoncomgpproductb001gvisjmtwizzlers strawberry 16ounce bags pack of 6a', 'i can remember buying this candy as a kid and the quality hasnt dropped in all these years still a superb product you wont be disappointed with', 'i love this candy after weight watchers i had to cut back but still have a craving for it', 'i have lived out of the us for over 7 yrs now and i so miss my twizzlers when i go back to visit or someone visits me i always stock up all i can say is yumbr sell these in mexico and you will have a faithful buyer more often than im able to buy them right now', 'product received is as advertisedbr br a hrefhttpwwwamazoncomgpproductb001gvisjmtwizzlers strawberry 16ounce bags pack of 6a', 'the candy is just red  no flavor  just plan and chewy  i would never buy them again', 'i was so glad amazon carried these batteries i have a hard time finding them elsewhere because they are such a unique size i need them for my garage door openerbr great deal for the price', 'i got this for my mum who is not diabetic but needs to watch her sugar intake and my father who simply chooses to limit unnecessary sugar intake  shes the one with the sweet tooth  they both loved these toffees you would never guess that theyre sugarfree and its so great that you can eat them pretty much guilt free i was so impressed that ive ordered some for myself w dark chocolate to take to the office so ill eat them instead of snacking on sugary sweetsbr these are just excellent', 'i dont know if its the cactus or the tequila or just the unique combination of ingredients but the flavour of this hot sauce makes it one of a kind we picked up a bottle once on a trip we were on and brought it back home with us and were totally blown away when we realized that we simply couldnt find it anywhere in our city we were bummedbr br now because of the magic of the internet we have a case of the sauce and are ecstatic because of itbr br if you love hot saucei mean really love hot sauce but dont want a sauce that tastelessly burns your throat grab a bottle of tequila picante gourmet de inclan just realize that once you taste it you will never want to use any other saucebr br thank you for the personal incredible service']\n"
          ],
          "name": "stdout"
        }
      ]
    },
    {
      "metadata": {
        "id": "I7-IgW7jQqmJ",
        "colab_type": "code",
        "colab": {}
      },
      "cell_type": "code",
      "source": [
        ""
      ],
      "execution_count": 0,
      "outputs": []
    },
    {
      "metadata": {
        "id": "WMMFkYOcRxCR",
        "colab_type": "code",
        "outputId": "b306a66a-6b39-4f67-c2ee-14570bf36920",
        "colab": {
          "base_uri": "https://localhost:8080/",
          "height": 208
        }
      },
      "cell_type": "code",
      "source": [
        "print(review[:10])"
      ],
      "execution_count": 46,
      "outputs": [
        {
          "output_type": "stream",
          "text": [
            "                                              review\n",
            "0  i have bought several of the vitality canned d...\n",
            "1  product arrived labeled as jumbo salted peanut...\n",
            "2  this is a confection that has been around a fe...\n",
            "3  if you are looking for the secret ingredient i...\n",
            "4  great taffy at a great price there was a wide ...\n",
            "5  i got a wild hair for taffy and ordered this f...\n",
            "6  this saltwater taffy had great flavors and was...\n",
            "7  this taffy is so good it is very soft and chew...\n",
            "8  right now im mostly just sprouting this so my ...\n",
            "9  this is a very healthy dog food good for their...\n"
          ],
          "name": "stdout"
        }
      ]
    },
    {
      "metadata": {
        "id": "4W81avZZq245",
        "colab_type": "code",
        "colab": {}
      },
      "cell_type": "code",
      "source": [
        "import numpy as np\n",
        "def get_coefs(word,*arr): \n",
        "  return word, np.asarray(arr, dtype='float32')\n",
        "path= '/content/gdrive/My Drive//lstm/glove.txt'\n",
        "embedding_index = dict(get_coefs(*o.strip().split(\" \")) for o in open(path))"
      ],
      "execution_count": 0,
      "outputs": []
    },
    {
      "metadata": {
        "id": "UMFNxbcRz1gD",
        "colab_type": "code",
        "colab": {}
      },
      "cell_type": "code",
      "source": [
        "embedding_vector = embedding_index.get(\"hello\")\n",
        "\n"
      ],
      "execution_count": 0,
      "outputs": []
    },
    {
      "metadata": {
        "id": "lOdYsB2gGK25",
        "colab_type": "code",
        "colab": {}
      },
      "cell_type": "code",
      "source": [
        "import numpy as np\n",
        "from gensim.models import Word2Vec"
      ],
      "execution_count": 0,
      "outputs": []
    }
  ]
}