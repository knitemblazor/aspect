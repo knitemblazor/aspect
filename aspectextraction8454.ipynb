{
  "nbformat": 4,
  "nbformat_minor": 0,
  "metadata": {
    "colab": {
      "name": "aspectextraction8454.ipynb",
      "version": "0.3.2",
      "provenance": [],
      "collapsed_sections": []
    },
    "kernelspec": {
      "name": "python3",
      "display_name": "Python 3"
    }
  },
  "cells": [
    {
      "metadata": {
        "id": "AxekqQNwGwHi",
        "colab_type": "code",
        "outputId": "72e8d019-5001-4c6f-ba35-c14399db9651",
        "colab": {
          "base_uri": "https://localhost:8080/",
          "height": 34
        }
      },
      "cell_type": "code",
      "source": [
        "from google.colab import drive\n",
        "drive.mount('/content/gdrive')"
      ],
      "execution_count": 9,
      "outputs": [
        {
          "output_type": "stream",
          "text": [
            "Drive already mounted at /content/gdrive; to attempt to forcibly remount, call drive.mount(\"/content/gdrive\", force_remount=True).\n"
          ],
          "name": "stdout"
        }
      ]
    },
    {
      "metadata": {
        "id": "KDMatyBimhUq",
        "colab_type": "code",
        "colab": {}
      },
      "cell_type": "code",
      "source": [
        "import pandas as pd\n",
        "summary=pd.read_csv('/content/gdrive/My Drive/aspect/summary.csv',header=None)\n",
        "review= pd.read_csv('/content/gdrive/My Drive/aspect/review.csv',header=None)\n",
        "summary = summary.transpose()\n",
        "review = review.transpose()\n",
        "print(summary,review)"
      ],
      "execution_count": 0,
      "outputs": []
    },
    {
      "metadata": {
        "id": "cujXyhE0Jnp9",
        "colab_type": "code",
        "colab": {}
      },
      "cell_type": "code",
      "source": [
        "summary.columns = [\"summary\"]\n",
        "review.columns=[\"review\"]\n",
        "full=[]\n",
        "summ=[]\n",
        "for i in range(118454):\n",
        "  full_text=review.at[i,\"review\"]\n",
        "  full.append(str(full_text).split())\n",
        "  summ_text=summary.at[i,\"summary\"]\n",
        "  summ.append(str(summ_text).split())\n",
        "  \n",
        "  "
      ],
      "execution_count": 0,
      "outputs": []
    },
    {
      "metadata": {
        "id": "iTgFI6P8Rxzz",
        "colab_type": "code",
        "outputId": "189b2462-a08c-474f-83f5-93b7eef554e5",
        "colab": {
          "base_uri": "https://localhost:8080/",
          "height": 54
        }
      },
      "cell_type": "code",
      "source": [
        "fulltext=full\n",
        "for i in range(len(summ)):\n",
        "  fulltext.append(summ[i])\n",
        "print((full[3]))\n"
      ],
      "execution_count": 12,
      "outputs": [
        {
          "output_type": "stream",
          "text": [
            "['if', 'you', 'are', 'looking', 'for', 'the', 'secret', 'ingredient', 'in', 'robitussin', 'i', 'believe', 'i', 'have', 'found', 'it', 'i', 'got', 'this', 'in', 'addition', 'to', 'the', 'root', 'beer', 'extract', 'i', 'ordered', 'which', 'was', 'good', 'and', 'made', 'some', 'cherry', 'soda', 'the', 'flavor', 'is', 'very', 'medicinal']\n"
          ],
          "name": "stdout"
        }
      ]
    },
    {
      "metadata": {
        "id": "hds0vbeGWpqt",
        "colab_type": "code",
        "colab": {}
      },
      "cell_type": "code",
      "source": [
        "import numpy as np\n",
        "from gensim.models import Word2Vec\n",
        "# model = Word2Vec.load(\"/content/gdrive/My Drive/aspect/word2vec8454.model\")\n",
        "model = Word2Vec(fulltext,size=28, min_count=1)"
      ],
      "execution_count": 0,
      "outputs": []
    },
    {
      "metadata": {
        "id": "f2WK5SMYdE1O",
        "colab_type": "code",
        "colab": {}
      },
      "cell_type": "code",
      "source": [
        "model.save(\"/content/gdrive/My Drive/aspect/word2vec8454.model\")"
      ],
      "execution_count": 0,
      "outputs": []
    },
    {
      "metadata": {
        "id": "BqW5MZYGdDk5",
        "colab_type": "code",
        "colab": {}
      },
      "cell_type": "code",
      "source": [
        "\n",
        "# print(model.wv['food'])\n",
        "zerovector=[]\n",
        "for i in range(28):\n",
        "  zerovector.append(0)\n",
        "def sentencevector(sent):\n",
        "  vector=[]\n",
        "  for word in sent:\n",
        "       vector.append(model[word])\n",
        "  for i in range(len(sent),28):\n",
        "      vector.append(zerovector)\n",
        "  return(vector)\n",
        "\n",
        "Xtotal=[]\n",
        "select=[]\n",
        "for i in range(len(full)):\n",
        "  if(len(full[i])<100):\n",
        "    select.append(i)\n",
        "    a=np.array(sentencevector(full[i]))\n",
        "    Xtotal.append(a)\n",
        "  \n",
        "print(len(Xtotal),Xtotal[1])"
      ],
      "execution_count": 0,
      "outputs": []
    },
    {
      "metadata": {
        "id": "Fnz1lLUPRhR5",
        "colab_type": "code",
        "colab": {}
      },
      "cell_type": "code",
      "source": [
        "for i in range(len(full)):\n",
        "  if(len(full[i])<100):\n",
        "    select.append(i)\n",
        "    a=np.array(sentencevector(full[i]))\n",
        "    Xtotal.append(a)\n",
        "  \n",
        "print(len(Xtotal),Xtotal[1])"
      ],
      "execution_count": 0,
      "outputs": []
    },
    {
      "metadata": {
        "id": "QGO8_0X8CAGd",
        "colab_type": "code",
        "colab": {}
      },
      "cell_type": "code",
      "source": [
        "print(select)"
      ],
      "execution_count": 0,
      "outputs": []
    },
    {
      "metadata": {
        "id": "T0rkjESHKsYL",
        "colab_type": "code",
        "colab": {}
      },
      "cell_type": "code",
      "source": [
        "class summarise(object):\n",
        "  def __init__(self):\n",
        "    self.rev=rev\n",
        "    self.summ=summ\n",
        "    \n",
        "  def attention(self):\n",
        "    "
      ],
      "execution_count": 0,
      "outputs": []
    }
  ]
}