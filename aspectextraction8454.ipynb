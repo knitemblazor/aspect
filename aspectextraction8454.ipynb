{
  "nbformat": 4,
  "nbformat_minor": 0,
  "metadata": {
    "colab": {
      "name": "aspectextraction8454.ipynb",
      "version": "0.3.2",
      "provenance": [],
      "collapsed_sections": []
    },
    "kernelspec": {
      "name": "python3",
      "display_name": "Python 3"
    }
  },
  "cells": [
    {
      "metadata": {
        "id": "AxekqQNwGwHi",
        "colab_type": "code",
        "outputId": "853e1c2d-d45d-4eeb-b179-c2d6d72eb95a",
        "colab": {
          "base_uri": "https://localhost:8080/",
          "height": 124
        }
      },
      "cell_type": "code",
      "source": [
        "from google.colab import drive\n",
        "drive.mount('/content/gdrive')"
      ],
      "execution_count": 1,
      "outputs": [
        {
          "output_type": "stream",
          "text": [
            "Go to this URL in a browser: https://accounts.google.com/o/oauth2/auth?client_id=947318989803-6bn6qk8qdgf4n4g3pfee6491hc0brc4i.apps.googleusercontent.com&redirect_uri=urn%3Aietf%3Awg%3Aoauth%3A2.0%3Aoob&scope=email%20https%3A%2F%2Fwww.googleapis.com%2Fauth%2Fdocs.test%20https%3A%2F%2Fwww.googleapis.com%2Fauth%2Fdrive%20https%3A%2F%2Fwww.googleapis.com%2Fauth%2Fdrive.photos.readonly%20https%3A%2F%2Fwww.googleapis.com%2Fauth%2Fpeopleapi.readonly&response_type=code\n",
            "\n",
            "Enter your authorization code:\n",
            "··········\n",
            "Mounted at /content/gdrive\n"
          ],
          "name": "stdout"
        }
      ]
    },
    {
      "metadata": {
        "id": "KDMatyBimhUq",
        "colab_type": "code",
        "colab": {}
      },
      "cell_type": "code",
      "source": [
        "import pandas as pd\n",
        "summary=pd.read_csv('/content/gdrive/My Drive/aspect/summary.csv',header=None)\n",
        "review= pd.read_csv('/content/gdrive/My Drive/aspect/review.csv',header=None)\n",
        "summary = summary.transpose()\n",
        "review = review.transpose()\n",
        "print(summary,review)"
      ],
      "execution_count": 0,
      "outputs": []
    },
    {
      "metadata": {
        "id": "jfB-UY1W3uzh",
        "colab_type": "code",
        "colab": {
          "base_uri": "https://localhost:8080/",
          "height": 34
        },
        "outputId": "ecadc0dd-a201-4072-a17f-5a3f18ac5bb4"
      },
      "cell_type": "code",
      "source": [
        "print(len(summary),len(review))"
      ],
      "execution_count": 17,
      "outputs": [
        {
          "output_type": "stream",
          "text": [
            "568454 568454\n"
          ],
          "name": "stdout"
        }
      ]
    },
    {
      "metadata": {
        "id": "cujXyhE0Jnp9",
        "colab_type": "code",
        "colab": {}
      },
      "cell_type": "code",
      "source": [
        "summary.columns = [\"summary\"]\n",
        "review.columns=[\"review\"]\n",
        "rev=[]\n",
        "summ=[]\n",
        "for i in range(118454):\n",
        "  full_text=review.at[i,\"review\"]\n",
        "  rev.append(str(full_text).split())\n",
        "  summ_text=summary.at[i,\"summary\"]\n",
        "  summ.append(str(summ_text).split())"
      ],
      "execution_count": 0,
      "outputs": []
    },
    {
      "metadata": {
        "id": "oaW7N4464JvD",
        "colab_type": "code",
        "colab": {
          "base_uri": "https://localhost:8080/",
          "height": 34
        },
        "outputId": "6c210826-74a6-416a-c8e2-6db055ffce0d"
      },
      "cell_type": "code",
      "source": [
        "print(len(summ),len(rev))"
      ],
      "execution_count": 4,
      "outputs": [
        {
          "output_type": "stream",
          "text": [
            "118454 118454\n"
          ],
          "name": "stdout"
        }
      ]
    },
    {
      "metadata": {
        "id": "iTgFI6P8Rxzz",
        "colab_type": "code",
        "outputId": "a225517b-c3f6-40fd-c04e-f5f8ff39f658",
        "colab": {
          "base_uri": "https://localhost:8080/",
          "height": 34
        }
      },
      "cell_type": "code",
      "source": [
        "fulltext=[]\n",
        "for i in range(len(summ)):\n",
        "  fulltext.append(summ[i])\n",
        "\n",
        "for i in range(len(rev)):\n",
        "  fulltext.append(rev[i])\n",
        "print(len(fulltext))\n"
      ],
      "execution_count": 5,
      "outputs": [
        {
          "output_type": "stream",
          "text": [
            "236908\n"
          ],
          "name": "stdout"
        }
      ]
    },
    {
      "metadata": {
        "id": "LIqPFs6Jsgap",
        "colab_type": "code",
        "colab": {
          "base_uri": "https://localhost:8080/",
          "height": 52
        },
        "outputId": "d83e0a3d-3ba0-470c-8a9e-66578f5e1b49"
      },
      "cell_type": "code",
      "source": [
        "print(len(rev))\n",
        "print(len(summ))\n"
      ],
      "execution_count": 6,
      "outputs": [
        {
          "output_type": "stream",
          "text": [
            "118454\n",
            "118454\n"
          ],
          "name": "stdout"
        }
      ]
    },
    {
      "metadata": {
        "id": "hds0vbeGWpqt",
        "colab_type": "code",
        "colab": {}
      },
      "cell_type": "code",
      "source": [
        "import numpy as np\n",
        "from gensim.models import Word2Vec\n",
        "model = Word2Vec.load(\"/content/gdrive/My Drive/aspect/word2vec8454.model\")\n",
        "# model = Word2Vec(fulltext,size=28, min_count=1)"
      ],
      "execution_count": 0,
      "outputs": []
    },
    {
      "metadata": {
        "id": "f2WK5SMYdE1O",
        "colab_type": "code",
        "colab": {}
      },
      "cell_type": "code",
      "source": [
        "model.save(\"/content/gdrive/My Drive/aspect/word2vec8454.model\")"
      ],
      "execution_count": 0,
      "outputs": []
    },
    {
      "metadata": {
        "id": "BqW5MZYGdDk5",
        "colab_type": "code",
        "colab": {
          "base_uri": "https://localhost:8080/",
          "height": 298
        },
        "outputId": "3d501f79-e189-47d9-9481-68d451d28ec1"
      },
      "cell_type": "code",
      "source": [
        "\n",
        "# print(model.wv['food'])\n",
        "zerovector=[]\n",
        "for i in range(28):\n",
        "  zerovector.append(0)\n",
        "def sentencevector(sent):\n",
        "  vector=[]\n",
        "  for word in sent:\n",
        "       vector.append(model[word])\n",
        "  for i in range(len(sent),100):\n",
        "      vector.append(zerovector)\n",
        "  return(vector)\n",
        "\n",
        "reviewvec=[]\n",
        "selre=[]\n",
        "for i in range(len(rev)):\n",
        "  if(len(rev[i])<100):\n",
        "    selre.append(i)\n",
        "    a=np.array(sentencevector(rev[i]))\n",
        "    reviewvec.append(a)\n",
        "  \n",
        "print(len(reviewvec),reviewvec[1])"
      ],
      "execution_count": 8,
      "outputs": [
        {
          "output_type": "stream",
          "text": [
            "/usr/local/lib/python3.6/dist-packages/ipykernel_launcher.py:7: DeprecationWarning: Call to deprecated `__getitem__` (Method will be removed in 4.0.0, use self.wv.__getitem__() instead).\n",
            "  import sys\n"
          ],
          "name": "stderr"
        },
        {
          "output_type": "stream",
          "text": [
            "89299 [[-2.66787577 -3.19973183  3.91950107 ... -2.44194603  0.89270282\n",
            "  -4.99528885]\n",
            " [ 3.03271914  6.67877865  0.565938   ...  2.41184592  0.19005202\n",
            "  -2.13611221]\n",
            " [ 0.39845607  0.75915915  1.06776047 ... -1.11187232  0.02758104\n",
            "  -0.09620836]\n",
            " ...\n",
            " [ 0.          0.          0.         ...  0.          0.\n",
            "   0.        ]\n",
            " [ 0.          0.          0.         ...  0.          0.\n",
            "   0.        ]\n",
            " [ 0.          0.          0.         ...  0.          0.\n",
            "   0.        ]]\n"
          ],
          "name": "stdout"
        }
      ]
    },
    {
      "metadata": {
        "id": "zpy99d6rY1AL",
        "colab_type": "code",
        "colab": {}
      },
      "cell_type": "code",
      "source": [
        "# np.save('/content/gdrive/My Drive/aspect/reviewarr.npy', np.array(reviewvec))\n",
        "np.save('/content/gdrive/My Drive/aspect/selre.npy', np.array(selre))\n"
      ],
      "execution_count": 0,
      "outputs": []
    },
    {
      "metadata": {
        "id": "HrGB-o1fZRcO",
        "colab_type": "text"
      },
      "cell_type": "markdown",
      "source": [
        ""
      ]
    },
    {
      "metadata": {
        "id": "8K3cWDFOZSIp",
        "colab_type": "code",
        "colab": {
          "base_uri": "https://localhost:8080/",
          "height": 243
        },
        "outputId": "af881be1-f1ac-465a-bb4b-e6c58318e428"
      },
      "cell_type": "code",
      "source": [
        "print(len(reviewvec),reviewvec[1])"
      ],
      "execution_count": 34,
      "outputs": [
        {
          "output_type": "stream",
          "text": [
            "89299 [[-2.66787577 -3.19973183  3.91950107 ... -2.44194603  0.89270282\n",
            "  -4.99528885]\n",
            " [ 3.03271914  6.67877865  0.565938   ...  2.41184592  0.19005202\n",
            "  -2.13611221]\n",
            " [ 0.39845607  0.75915915  1.06776047 ... -1.11187232  0.02758104\n",
            "  -0.09620836]\n",
            " ...\n",
            " [ 0.          0.          0.         ...  0.          0.\n",
            "   0.        ]\n",
            " [ 0.          0.          0.         ...  0.          0.\n",
            "   0.        ]\n",
            " [ 0.          0.          0.         ...  0.          0.\n",
            "   0.        ]]\n"
          ],
          "name": "stdout"
        }
      ]
    },
    {
      "metadata": {
        "id": "s_Vs4Am6l1lb",
        "colab_type": "code",
        "colab": {
          "base_uri": "https://localhost:8080/",
          "height": 89
        },
        "outputId": "1162795f-ccc4-4469-d87c-5fa643fc37d5"
      },
      "cell_type": "code",
      "source": [
        "\n",
        "# print(model.wv['food'])\n",
        "zerovector=[]\n",
        "for i in range(28):\n",
        "  zerovector.append(0)\n",
        "def sentencevector(sent):\n",
        "  vector=[]\n",
        "  for word in sent:\n",
        "       vector.append(model[word])\n",
        "  for i in range(len(sent),30):\n",
        "      vector.append(zerovector)\n",
        "  return(vector)\n",
        "\n",
        "summvec=[]\n",
        "selsum=[]\n",
        "for i in range(len(summ)):\n",
        "  if(len(summ[i])<30):\n",
        "    selsum.append(i)\n",
        "    b=np.array(sentencevector(summ[i]))\n",
        "    summvec.append(b)\n",
        "  \n",
        "print(len(summvec))"
      ],
      "execution_count": 45,
      "outputs": [
        {
          "output_type": "stream",
          "text": [
            "/usr/local/lib/python3.6/dist-packages/ipykernel_launcher.py:7: DeprecationWarning: Call to deprecated `__getitem__` (Method will be removed in 4.0.0, use self.wv.__getitem__() instead).\n",
            "  import sys\n"
          ],
          "name": "stderr"
        },
        {
          "output_type": "stream",
          "text": [
            "118454\n"
          ],
          "name": "stdout"
        }
      ]
    },
    {
      "metadata": {
        "id": "gXCBiSreabR4",
        "colab_type": "code",
        "colab": {}
      },
      "cell_type": "code",
      "source": [
        "np.save('/content/gdrive/My Drive/aspect/summarr.npy', np.array(summvec))"
      ],
      "execution_count": 0,
      "outputs": []
    },
    {
      "metadata": {
        "id": "Fnz1lLUPRhR5",
        "colab_type": "code",
        "colab": {}
      },
      "cell_type": "code",
      "source": [
        "for i in range(len(full)):\n",
        "  if(len(full[i])<100):\n",
        "    select.append(i)\n",
        "    a=np.array(sentencevector(full[i]))\n",
        "    Xtotal.append(a)\n",
        "  \n",
        "print(len(Xtotal),Xtotal[1])"
      ],
      "execution_count": 0,
      "outputs": []
    },
    {
      "metadata": {
        "id": "QGO8_0X8CAGd",
        "colab_type": "code",
        "colab": {}
      },
      "cell_type": "code",
      "source": [
        "print(select)"
      ],
      "execution_count": 0,
      "outputs": []
    }
  ]
}